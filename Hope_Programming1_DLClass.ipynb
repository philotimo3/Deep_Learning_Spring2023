{
 "cells": [
  {
   "cell_type": "markdown",
   "metadata": {},
   "source": [
    "# Programming Assignment: Numerical Optimization for Logistic Regression.\n",
    "\n",
    "### Name: [Hope Diamantopoulos]\n"
   ]
  },
  {
   "cell_type": "markdown",
   "metadata": {},
   "source": [
    "## 0. You will do the following:\n",
    "\n",
    "1. Read the lecture note: [click here](https://github.com/wangshusen/DeepLearning/blob/master/LectureNotes/Logistic/paper/logistic.pdf)\n",
    "\n",
    "2. Read, complete, and run my code.\n",
    "\n",
    "3. **Implement mini-batch SGD** and evaluate the performance.\n",
    "\n",
    "4. Convert the .IPYNB file to .HTML file.\n",
    "\n",
    "    * The HTML file must contain **the code** and **the output after execution**.\n",
    "    \n",
    "    * Missing **the output after execution** will not be graded.\n",
    "    \n",
    "    \n",
    "5. Upload this .HTML file to your Google Drive, Dropbox, or your Github repo.  (If you submit the file to Google Drive or Dropbox, you must make the file \"open-access\". The delay caused by \"deny of access\" may result in late penalty.)\n",
    "\n",
    "6. On Canvas, submit the Google Drive/Dropbox/Github link to the HTML file.\n",
    "\n",
    "\n",
    "## Grading criteria:\n",
    "\n",
    "1. When computing the ```gradient``` and ```objective function value``` using a batch of samples, use **matrix-vector multiplication** rather than a FOR LOOP of **vector-vector multiplications**.\n",
    "\n",
    "2. Plot ```objective function value``` against ```epochs```. In the plot, compare GD, SGD, and MB-SGD (with $b=8$ and $b=64$). The plot must look reasonable."
   ]
  },
  {
   "cell_type": "code",
   "execution_count": 147,
   "metadata": {},
   "outputs": [],
   "source": [
    "#downloaded as text file into same folder I have this jupyter notebook"
   ]
  },
  {
   "cell_type": "markdown",
   "metadata": {},
   "source": [
    "# 1. Data processing\n",
    "\n",
    "- Download the Diabete dataset from https://www.csie.ntu.edu.tw/~cjlin/libsvmtools/datasets/binary/diabetes\n",
    "- Load the data using sklearn.\n",
    "- Preprocess the data."
   ]
  },
  {
   "cell_type": "markdown",
   "metadata": {},
   "source": [
    "## 1.1. Load the data"
   ]
  },
  {
   "cell_type": "code",
   "execution_count": 148,
   "metadata": {},
   "outputs": [
    {
     "name": "stdout",
     "output_type": "stream",
     "text": [
      "Shape of x: (768, 8)\n",
      "Shape of y: (768,)\n"
     ]
    }
   ],
   "source": [
    "from sklearn import datasets\n",
    "import numpy\n",
    "\n",
    "x_sparse, y = datasets.load_svmlight_file('diabetes.txt')\n",
    "x = x_sparse.todense()\n",
    "\n",
    "print('Shape of x: ' + str(x.shape))\n",
    "print('Shape of y: ' + str(y.shape))"
   ]
  },
  {
   "cell_type": "markdown",
   "metadata": {},
   "source": [
    "## 1.2. Partition to training and test sets"
   ]
  },
  {
   "cell_type": "code",
   "execution_count": 149,
   "metadata": {},
   "outputs": [
    {
     "name": "stdout",
     "output_type": "stream",
     "text": [
      "Shape of x_train: (640, 8)\n",
      "Shape of x_test: (128, 8)\n",
      "Shape of y_train: (640, 1)\n",
      "Shape of y_test: (128, 1)\n"
     ]
    }
   ],
   "source": [
    "# partition the data to training and test sets\n",
    "n = x.shape[0]\n",
    "n_train = 640\n",
    "n_test = n - n_train\n",
    "\n",
    "rand_indices = numpy.random.permutation(n)\n",
    "train_indices = rand_indices[0:n_train]\n",
    "test_indices = rand_indices[n_train:n]\n",
    "\n",
    "x_train = x[train_indices, :]\n",
    "x_test = x[test_indices, :]\n",
    "y_train = y[train_indices].reshape(n_train, 1)\n",
    "y_test = y[test_indices].reshape(n_test, 1)\n",
    "\n",
    "print('Shape of x_train: ' + str(x_train.shape))\n",
    "print('Shape of x_test: ' + str(x_test.shape))\n",
    "print('Shape of y_train: ' + str(y_train.shape))\n",
    "print('Shape of y_test: ' + str(y_test.shape))"
   ]
  },
  {
   "cell_type": "markdown",
   "metadata": {},
   "source": [
    "## 1.3. Feature scaling"
   ]
  },
  {
   "cell_type": "markdown",
   "metadata": {},
   "source": [
    "Use the standardization to trainsform both training and test features"
   ]
  },
  {
   "cell_type": "code",
   "execution_count": 150,
   "metadata": {},
   "outputs": [
    {
     "name": "stdout",
     "output_type": "stream",
     "text": [
      "test mean = \n",
      "[[ 0.03011098 -0.05273388 -0.07636069 -0.03357764  0.00398228 -0.01156367\n",
      "  -0.10310139 -0.08428881]]\n",
      "test std = \n",
      "[[0.98969695 1.00641875 1.0373816  0.93872441 1.14888182 0.9803698\n",
      "  0.78241405 0.98743169]]\n"
     ]
    }
   ],
   "source": [
    "# Standardization\n",
    "import numpy\n",
    "\n",
    "# calculate mu and sig using the training set\n",
    "d = x_train.shape[1]\n",
    "mu = numpy.mean(x_train, axis=0).reshape(1, d)\n",
    "sig = numpy.std(x_train, axis=0).reshape(1, d)\n",
    "\n",
    "# transform the training features\n",
    "x_train = (x_train - mu) / (sig + 1E-6)\n",
    "\n",
    "# transform the test features\n",
    "x_test = (x_test - mu) / (sig + 1E-6)\n",
    "\n",
    "print('test mean = ')\n",
    "print(numpy.mean(x_test, axis=0))\n",
    "\n",
    "print('test std = ')\n",
    "print(numpy.std(x_test, axis=0))"
   ]
  },
  {
   "cell_type": "markdown",
   "metadata": {},
   "source": [
    "## 1.4. Add a dimension of all ones"
   ]
  },
  {
   "cell_type": "code",
   "execution_count": 151,
   "metadata": {},
   "outputs": [
    {
     "name": "stdout",
     "output_type": "stream",
     "text": [
      "Shape of x_train: (640, 9)\n",
      "Shape of x_test: (128, 9)\n"
     ]
    }
   ],
   "source": [
    "n_train, d = x_train.shape\n",
    "x_train = numpy.concatenate((x_train, numpy.ones((n_train, 1))), axis=1)\n",
    "\n",
    "n_test, d = x_test.shape\n",
    "x_test = numpy.concatenate((x_test, numpy.ones((n_test, 1))), axis=1)\n",
    "\n",
    "print('Shape of x_train: ' + str(x_train.shape))\n",
    "print('Shape of x_test: ' + str(x_test.shape))"
   ]
  },
  {
   "cell_type": "markdown",
   "metadata": {},
   "source": [
    "# 2. Logistic regression model\n",
    "\n",
    "The objective function is $Q (w; X, y) = \\frac{1}{n} \\sum_{i=1}^n \\log \\Big( 1 + \\exp \\big( - y_i x_i^T w \\big) \\Big) + \\frac{\\lambda}{2} \\| w \\|_2^2 $."
   ]
  },
  {
   "cell_type": "code",
   "execution_count": 152,
   "metadata": {},
   "outputs": [],
   "source": [
    "# Calculate the objective function value\n",
    "# Inputs:\n",
    "#     w: d-by-1 matrix\n",
    "#     x: n-by-d matrix\n",
    "#     y: n-by-1 matrix\n",
    "#     lam: scalar, the regularization parameter\n",
    "# Return:\n",
    "#     objective function value (scalar)\n",
    "def objective(w, x, y, lam):\n",
    "    n, d = x.shape\n",
    "    yx = numpy.multiply(y, x) # n-by-d matrix\n",
    "    yxw = numpy.dot(yx, w) # n-by-1 matrix\n",
    "    vec1 = numpy.exp(-yxw) # n-by-1 matrix\n",
    "    vec2 = numpy.log(1 + vec1) # n-by-1 matrix\n",
    "    loss = numpy.mean(vec2) # scalar\n",
    "    reg = lam / 2 * numpy.sum(w * w) # scalar\n",
    "    return loss + reg\n",
    "    "
   ]
  },
  {
   "cell_type": "code",
   "execution_count": 153,
   "metadata": {},
   "outputs": [
    {
     "name": "stdout",
     "output_type": "stream",
     "text": [
      "Initial objective function value = 0.6931471805599453\n"
     ]
    }
   ],
   "source": [
    "# initialize w\n",
    "d = x_train.shape[1]\n",
    "w = numpy.zeros((d, 1))\n",
    "\n",
    "# evaluate the objective function value at w\n",
    "lam = 1E-6\n",
    "objval0 = objective(w, x_train, y_train, lam)\n",
    "print('Initial objective function value = ' + str(objval0))"
   ]
  },
  {
   "cell_type": "markdown",
   "metadata": {},
   "source": [
    "# 3. Numerical optimization"
   ]
  },
  {
   "cell_type": "markdown",
   "metadata": {},
   "source": [
    "## 3.1. Gradient descent\n"
   ]
  },
  {
   "cell_type": "markdown",
   "metadata": {},
   "source": [
    "The gradient at $w$ is $g = - \\frac{1}{n} \\sum_{i=1}^n \\frac{y_i x_i }{1 + \\exp ( y_i x_i^T w)} + \\lambda w$"
   ]
  },
  {
   "cell_type": "code",
   "execution_count": 154,
   "metadata": {},
   "outputs": [],
   "source": [
    "# Calculate the gradient\n",
    "# Inputs:\n",
    "#     w: d-by-1 matrix\n",
    "#     x: n-by-d matrix\n",
    "#     y: n-by-1 matrix\n",
    "#     lam: scalar, the regularization parameter\n",
    "# Return:\n",
    "#     g: g: d-by-1 matrix, full gradient\n",
    "def gradient(w, x, y, lam):\n",
    "    n, d = x.shape\n",
    "    yx = numpy.multiply(y, x) # n-by-d matrix\n",
    "    yxw = numpy.dot(yx, w) # n-by-1 matrix\n",
    "    vec1 = numpy.exp(yxw) # n-by-1 matrix\n",
    "    vec2 = numpy.divide(yx, 1+vec1) # n-by-d matrix\n",
    "    vec3 = -numpy.mean(vec2, axis=0).reshape(d, 1) # d-by-1 matrix\n",
    "    g = vec3 + lam * w\n",
    "    return g"
   ]
  },
  {
   "cell_type": "code",
   "execution_count": 155,
   "metadata": {},
   "outputs": [],
   "source": [
    "# Gradient descent for solving logistic regression\n",
    "# Inputs:\n",
    "#     x: n-by-d matrix\n",
    "#     y: n-by-1 matrix\n",
    "#     lam: scalar, the regularization parameter\n",
    "#     stepsize: scalar\n",
    "#     max_iter: integer, the maximal iterations\n",
    "#     w: d-by-1 matrix, initialization of w\n",
    "# Return:\n",
    "#     w: d-by-1 matrix, the solution\n",
    "#     objvals: a record of each iteration's objective value\n",
    "def grad_descent(x, y, lam, stepsize, max_iter=100, w=None):\n",
    "    n, d = x.shape\n",
    "    objvals = numpy.zeros(max_iter) # store the objective values\n",
    "    if w is None:\n",
    "        w = numpy.zeros((d, 1)) # zero initialization\n",
    "    \n",
    "    for t in range(max_iter):\n",
    "        objval = objective(w, x, y, lam)\n",
    "        objvals[t] = objval\n",
    "        print('Objective value at t=' + str(t) + ' is ' + str(objval))\n",
    "        g = gradient(w, x, y, lam)\n",
    "        w -= stepsize * g\n",
    "    \n",
    "    return w, objvals"
   ]
  },
  {
   "cell_type": "markdown",
   "metadata": {},
   "source": [
    "Run gradient descent."
   ]
  },
  {
   "cell_type": "code",
   "execution_count": 156,
   "metadata": {},
   "outputs": [
    {
     "name": "stdout",
     "output_type": "stream",
     "text": [
      "Objective value at t=0 is 0.6931471805599453\n",
      "Objective value at t=1 is 0.5888478691474115\n",
      "Objective value at t=2 is 0.5461611219140562\n",
      "Objective value at t=3 is 0.5233318256123058\n",
      "Objective value at t=4 is 0.5091764734815201\n",
      "Objective value at t=5 is 0.4996456669819807\n",
      "Objective value at t=6 is 0.49289419507035037\n",
      "Objective value at t=7 is 0.4879449692202823\n",
      "Objective value at t=8 is 0.4842257398935991\n",
      "Objective value at t=9 is 0.4813771427563081\n",
      "Objective value at t=10 is 0.4791619320762373\n",
      "Objective value at t=11 is 0.4774175408272946\n",
      "Objective value at t=12 is 0.47602931498634976\n",
      "Objective value at t=13 is 0.4749144983497204\n",
      "Objective value at t=14 is 0.47401220244589337\n",
      "Objective value at t=15 is 0.4732768940377828\n",
      "Objective value at t=16 is 0.47267404134330854\n",
      "Objective value at t=17 is 0.4721771321122112\n",
      "Objective value at t=18 is 0.4717655888852067\n",
      "Objective value at t=19 is 0.47142328529482536\n",
      "Objective value at t=20 is 0.47113747340379025\n",
      "Objective value at t=21 is 0.47089799724793224\n",
      "Objective value at t=22 is 0.4706967088727239\n",
      "Objective value at t=23 is 0.47052702971070737\n",
      "Objective value at t=24 is 0.47038361764920167\n",
      "Objective value at t=25 is 0.47026211187888706\n",
      "Objective value at t=26 is 0.47015893561691235\n",
      "Objective value at t=27 is 0.4700711423325537\n",
      "Objective value at t=28 is 0.46999629498161777\n",
      "Objective value at t=29 is 0.46993237050680087\n",
      "Objective value at t=30 is 0.46987768383494916\n",
      "Objective value at t=31 is 0.4698308270333569\n",
      "Objective value at t=32 is 0.4697906203353886\n",
      "Objective value at t=33 is 0.469756072520548\n",
      "Objective value at t=34 is 0.46972634871197716\n",
      "Objective value at t=35 is 0.46970074408890766\n",
      "Objective value at t=36 is 0.4696786623409363\n",
      "Objective value at t=37 is 0.46965959794245227\n",
      "Objective value at t=38 is 0.46964312151888676\n",
      "Objective value at t=39 is 0.4696288677260926\n",
      "Objective value at t=40 is 0.4696165251806931\n",
      "Objective value at t=41 is 0.46960582807053136\n",
      "Objective value at t=42 is 0.46959654914626137\n",
      "Objective value at t=43 is 0.4695884938520652\n",
      "Objective value at t=44 is 0.4695814953987999\n",
      "Objective value at t=45 is 0.4695754106191052\n",
      "Objective value at t=46 is 0.46957011647309904\n",
      "Objective value at t=47 is 0.4695655070967535\n",
      "Objective value at t=48 is 0.46956149130403385\n",
      "Objective value at t=49 is 0.46955799046932545\n",
      "Objective value at t=50 is 0.4695549367292511\n",
      "Objective value at t=51 is 0.4695522714532901\n",
      "Objective value at t=52 is 0.46954994394105426\n",
      "Objective value at t=53 is 0.4695479103110375\n",
      "Objective value at t=54 is 0.469546132551399\n",
      "Objective value at t=55 is 0.46954457770809405\n",
      "Objective value at t=56 is 0.4695432171896108\n",
      "Objective value at t=57 is 0.46954202617085306\n",
      "Objective value at t=58 is 0.46954098308144515\n",
      "Objective value at t=59 is 0.46954006916601965\n",
      "Objective value at t=60 is 0.4695392681059642\n",
      "Objective value at t=61 is 0.46953856569370495\n",
      "Objective value at t=62 is 0.46953794955195893\n",
      "Objective value at t=63 is 0.469537408891516\n",
      "Objective value at t=64 is 0.46953693430207766\n",
      "Objective value at t=65 is 0.46953651757148035\n",
      "Objective value at t=66 is 0.4695361515293222\n",
      "Objective value at t=67 is 0.4695358299115879\n",
      "Objective value at t=68 is 0.46953554724336133\n",
      "Objective value at t=69 is 0.4695352987371314\n",
      "Objective value at t=70 is 0.46953508020455437\n",
      "Objective value at t=71 is 0.4695348879798377\n",
      "Objective value at t=72 is 0.4695347188531693\n",
      "Objective value at t=73 is 0.4695345700128376\n",
      "Objective value at t=74 is 0.4695344389948754\n",
      "Objective value at t=75 is 0.4695343236392213\n",
      "Objective value at t=76 is 0.46953422205153544\n",
      "Objective value at t=77 is 0.4695341325699177\n",
      "Objective value at t=78 is 0.46953405373588547\n",
      "Objective value at t=79 is 0.46953398426904946\n",
      "Objective value at t=80 is 0.46953392304500874\n",
      "Objective value at t=81 is 0.4695338690760417\n",
      "Objective value at t=82 is 0.46953382149423356\n",
      "Objective value at t=83 is 0.469533779536727\n",
      "Objective value at t=84 is 0.4695337425328192\n",
      "Objective value at t=85 is 0.4695337098926737\n",
      "Objective value at t=86 is 0.4695336810974369\n",
      "Objective value at t=87 is 0.46953365569058303\n",
      "Objective value at t=88 is 0.46953363327033226\n",
      "Objective value at t=89 is 0.4695336134830038\n",
      "Objective value at t=90 is 0.4695335960171897\n",
      "Objective value at t=91 is 0.46953358059864325\n",
      "Objective value at t=92 is 0.4695335669857962\n",
      "Objective value at t=93 is 0.46953355496582183\n",
      "Objective value at t=94 is 0.4695335443511801\n",
      "Objective value at t=95 is 0.4695335349765834\n",
      "Objective value at t=96 is 0.46953352669633014\n",
      "Objective value at t=97 is 0.46953351938196236\n",
      "Objective value at t=98 is 0.46953351292020595\n",
      "Objective value at t=99 is 0.46953350721116105\n"
     ]
    }
   ],
   "source": [
    "lam = 1E-6\n",
    "stepsize = 1.0\n",
    "w, objvals_gd = grad_descent(x_train, y_train, lam, stepsize)"
   ]
  },
  {
   "cell_type": "markdown",
   "metadata": {},
   "source": [
    "## 3.2. Stochastic gradient descent (SGD)\n",
    "\n",
    "Define $Q_i (w) = \\log \\Big( 1 + \\exp \\big( - y_i x_i^T w \\big) \\Big) + \\frac{\\lambda}{2} \\| w \\|_2^2 $.\n",
    "\n",
    "The stochastic gradient at $w$ is $g_i = \\frac{\\partial Q_i }{ \\partial w} = -\\frac{y_i x_i }{1 + \\exp ( y_i x_i^T w)} + \\lambda w$."
   ]
  },
  {
   "cell_type": "code",
   "execution_count": 157,
   "metadata": {},
   "outputs": [],
   "source": [
    "# Calculate the objective Q_i and the gradient of Q_i\n",
    "# Inputs:\n",
    "#     w: d-by-1 matrix\n",
    "#     xi: 1-by-d matrix\n",
    "#     yi: scalar\n",
    "#     lam: scalar, the regularization parameter\n",
    "# Return:\n",
    "#     obj: scalar, the objective Q_i\n",
    "#     g: d-by-1 matrix, gradient of Q_i\n",
    "def stochastic_objective_gradient(w, xi, yi, lam):\n",
    "    yx = yi * xi # 1-by-d matrix\n",
    "    yxw = float(numpy.dot(yx, w)) # scalar\n",
    "    \n",
    "    # calculate objective function Q_i\n",
    "    loss = numpy.log(1 + numpy.exp(-yxw)) # scalar\n",
    "    reg = lam / 2 * numpy.sum(w * w) # scalar\n",
    "    obj = loss + reg\n",
    "    \n",
    "    # calculate stochastic gradient\n",
    "    g_loss = -yx.T / (1 + numpy.exp(yxw)) # d-by-1 matrix\n",
    "    g = g_loss + lam * w # d-by-1 matrix\n",
    "    \n",
    "    return obj, g"
   ]
  },
  {
   "cell_type": "code",
   "execution_count": 158,
   "metadata": {},
   "outputs": [],
   "source": [
    "# SGD for solving logistic regression\n",
    "# Inputs:\n",
    "#     x: n-by-d matrix\n",
    "#     y: n-by-1 matrix\n",
    "#     lam: scalar, the regularization parameter\n",
    "#     stepsize: scalar\n",
    "#     max_epoch: integer, the maximal epochs\n",
    "#     w: d-by-1 matrix, initialization of w\n",
    "# Return:\n",
    "#     w: the solution\n",
    "#     objvals: record of each iteration's objective value\n",
    "def sgd(x, y, lam, stepsize, max_epoch=100, w=None):\n",
    "    n, d = x.shape\n",
    "    objvals = numpy.zeros(max_epoch) # store the objective values\n",
    "    if w is None:\n",
    "        w = numpy.zeros((d, 1)) # zero initialization\n",
    "    \n",
    "    for t in range(max_epoch):\n",
    "        # randomly shuffle the samples\n",
    "        rand_indices = numpy.random.permutation(n)\n",
    "        x_rand = x[rand_indices, :]\n",
    "        y_rand = y[rand_indices, :]\n",
    "        \n",
    "        objval = 0 # accumulate the objective values\n",
    "        for i in range(n):\n",
    "            xi = x_rand[i, :] # 1-by-d matrix\n",
    "            yi = float(y_rand[i, :]) # scalar\n",
    "            obj, g = stochastic_objective_gradient(w, xi, yi, lam)\n",
    "            objval += obj\n",
    "            w -= stepsize * g\n",
    "        \n",
    "        stepsize *= 0.9 # decrease step size\n",
    "        objval /= n\n",
    "        objvals[t] = objval\n",
    "        print('Objective value at epoch t=' + str(t) + ' is ' + str(objval))\n",
    "    \n",
    "    return w, objvals"
   ]
  },
  {
   "cell_type": "markdown",
   "metadata": {},
   "source": [
    "Run SGD."
   ]
  },
  {
   "cell_type": "code",
   "execution_count": 159,
   "metadata": {},
   "outputs": [
    {
     "name": "stdout",
     "output_type": "stream",
     "text": [
      "Objective value at epoch t=0 is 0.528276201739688\n",
      "Objective value at epoch t=1 is 0.5235173668979562\n",
      "Objective value at epoch t=2 is 0.505403998882379\n",
      "Objective value at epoch t=3 is 0.5045946141645352\n",
      "Objective value at epoch t=4 is 0.4956267776497592\n",
      "Objective value at epoch t=5 is 0.5005201019799312\n",
      "Objective value at epoch t=6 is 0.49889385500754513\n",
      "Objective value at epoch t=7 is 0.4965177360131198\n",
      "Objective value at epoch t=8 is 0.4924941438662368\n",
      "Objective value at epoch t=9 is 0.49055944547483293\n",
      "Objective value at epoch t=10 is 0.48825168199379504\n",
      "Objective value at epoch t=11 is 0.48919346686709614\n",
      "Objective value at epoch t=12 is 0.487263097004009\n",
      "Objective value at epoch t=13 is 0.4841537875831591\n",
      "Objective value at epoch t=14 is 0.4825538610728687\n",
      "Objective value at epoch t=15 is 0.4817864030483613\n",
      "Objective value at epoch t=16 is 0.48017096215526606\n",
      "Objective value at epoch t=17 is 0.4800507876620873\n",
      "Objective value at epoch t=18 is 0.4790013150035617\n",
      "Objective value at epoch t=19 is 0.4756814669283552\n",
      "Objective value at epoch t=20 is 0.47758016315612356\n",
      "Objective value at epoch t=21 is 0.47685601264558014\n",
      "Objective value at epoch t=22 is 0.47553280022937133\n",
      "Objective value at epoch t=23 is 0.4749128468225032\n",
      "Objective value at epoch t=24 is 0.4747572523907654\n",
      "Objective value at epoch t=25 is 0.4744595857086262\n",
      "Objective value at epoch t=26 is 0.47362295318913894\n",
      "Objective value at epoch t=27 is 0.4733435130232208\n",
      "Objective value at epoch t=28 is 0.47308236381800367\n",
      "Objective value at epoch t=29 is 0.47252438002256414\n",
      "Objective value at epoch t=30 is 0.4723792347486113\n",
      "Objective value at epoch t=31 is 0.47221049981859514\n",
      "Objective value at epoch t=32 is 0.47197890398513903\n",
      "Objective value at epoch t=33 is 0.4716494933346989\n",
      "Objective value at epoch t=34 is 0.4714348465792443\n",
      "Objective value at epoch t=35 is 0.47128095269348924\n",
      "Objective value at epoch t=36 is 0.4710913852069626\n",
      "Objective value at epoch t=37 is 0.4709879213017246\n",
      "Objective value at epoch t=38 is 0.4708573079791051\n",
      "Objective value at epoch t=39 is 0.4707105841979047\n",
      "Objective value at epoch t=40 is 0.47059351660057674\n",
      "Objective value at epoch t=41 is 0.4704920677295756\n",
      "Objective value at epoch t=42 is 0.4703977626045141\n",
      "Objective value at epoch t=43 is 0.47031251484717346\n",
      "Objective value at epoch t=44 is 0.47023959283509165\n",
      "Objective value at epoch t=45 is 0.47016075068810703\n",
      "Objective value at epoch t=46 is 0.47009486773103415\n",
      "Objective value at epoch t=47 is 0.470045762494142\n",
      "Objective value at epoch t=48 is 0.4699984075268686\n",
      "Objective value at epoch t=49 is 0.46994793461051465\n",
      "Objective value at epoch t=50 is 0.46991001856794384\n",
      "Objective value at epoch t=51 is 0.4698724153120648\n",
      "Objective value at epoch t=52 is 0.4698382354057341\n",
      "Objective value at epoch t=53 is 0.4698081936350958\n",
      "Objective value at epoch t=54 is 0.4697806259521783\n",
      "Objective value at epoch t=55 is 0.46975703905278204\n",
      "Objective value at epoch t=56 is 0.4697346473748726\n",
      "Objective value at epoch t=57 is 0.46971485893162407\n",
      "Objective value at epoch t=58 is 0.46969616979901757\n",
      "Objective value at epoch t=59 is 0.4696804029576819\n",
      "Objective value at epoch t=60 is 0.46966571630281634\n",
      "Objective value at epoch t=61 is 0.46965265927834093\n",
      "Objective value at epoch t=62 is 0.46964061331880885\n",
      "Objective value at epoch t=63 is 0.46963012189613706\n",
      "Objective value at epoch t=64 is 0.4696203951214499\n",
      "Objective value at epoch t=65 is 0.4696117690352196\n",
      "Objective value at epoch t=66 is 0.4696038155444433\n",
      "Objective value at epoch t=67 is 0.469597018221353\n",
      "Objective value at epoch t=68 is 0.4695906740002395\n",
      "Objective value at epoch t=69 is 0.4695850995879197\n",
      "Objective value at epoch t=70 is 0.4695799561152926\n",
      "Objective value at epoch t=71 is 0.46957536247735243\n",
      "Objective value at epoch t=72 is 0.4695712239403152\n",
      "Objective value at epoch t=73 is 0.46956750891745636\n",
      "Objective value at epoch t=74 is 0.46956413808387476\n",
      "Objective value at epoch t=75 is 0.4695611437651938\n",
      "Objective value at epoch t=76 is 0.46955842391615665\n",
      "Objective value at epoch t=77 is 0.46955598150079625\n",
      "Objective value at epoch t=78 is 0.469553778412273\n",
      "Objective value at epoch t=79 is 0.46955180061036134\n",
      "Objective value at epoch t=80 is 0.4695500179807578\n",
      "Objective value at epoch t=81 is 0.46954841315890306\n",
      "Objective value at epoch t=82 is 0.469546969527992\n",
      "Objective value at epoch t=83 is 0.4695456707295417\n",
      "Objective value at epoch t=84 is 0.46954450154785565\n",
      "Objective value at epoch t=85 is 0.46954344746362625\n",
      "Objective value at epoch t=86 is 0.469542499430204\n",
      "Objective value at epoch t=87 is 0.46954164659092124\n",
      "Objective value at epoch t=88 is 0.46954087950028117\n",
      "Objective value at epoch t=89 is 0.4695401887036083\n",
      "Objective value at epoch t=90 is 0.4695395665905869\n",
      "Objective value at epoch t=91 is 0.4695390067362196\n",
      "Objective value at epoch t=92 is 0.4695385035499561\n",
      "Objective value at epoch t=93 is 0.46953805011609473\n",
      "Objective value at epoch t=94 is 0.4695376417572953\n",
      "Objective value at epoch t=95 is 0.4695372745494432\n",
      "Objective value at epoch t=96 is 0.46953694426045267\n",
      "Objective value at epoch t=97 is 0.4695366468346598\n",
      "Objective value at epoch t=98 is 0.4695363790762828\n",
      "Objective value at epoch t=99 is 0.4695361381382429\n"
     ]
    }
   ],
   "source": [
    "lam = 1E-6\n",
    "stepsize = 0.1\n",
    "w, objvals_sgd = sgd(x_train, y_train, lam, stepsize)"
   ]
  },
  {
   "cell_type": "markdown",
   "metadata": {},
   "source": [
    "# 4. Compare GD with SGD\n",
    "\n",
    "Plot objective function values against epochs."
   ]
  },
  {
   "cell_type": "code",
   "execution_count": 160,
   "metadata": {},
   "outputs": [
    {
     "data": {
      "image/png": "[encoded data removed]",
      "text/plain": [
       "<Figure size 600x400 with 1 Axes>"
      ]
     },
     "metadata": {},
     "output_type": "display_data"
    }
   ],
   "source": [
    "import matplotlib.pyplot as plt\n",
    "%matplotlib inline\n",
    "\n",
    "fig = plt.figure(figsize=(6, 4))\n",
    "\n",
    "epochs_gd = range(len(objvals_gd))\n",
    "epochs_sgd = range(len(objvals_sgd))\n",
    "\n",
    "line0, = plt.plot(epochs_gd, objvals_gd, '--b', linewidth=4)\n",
    "line1, = plt.plot(epochs_sgd, objvals_sgd, '-r', linewidth=2)\n",
    "plt.xlabel('Epochs', fontsize=20)\n",
    "plt.ylabel('Objective Value', fontsize=20)\n",
    "plt.xticks(fontsize=16)\n",
    "plt.yticks(fontsize=16)\n",
    "plt.legend([line0, line1], ['GD', 'SGD'], fontsize=20)\n",
    "plt.tight_layout()\n",
    "plt.show()\n",
    "fig.savefig('compare_gd_sgd.pdf', format='pdf', dpi=1200)"
   ]
  },
  {
   "cell_type": "markdown",
   "metadata": {},
   "source": [
    "# 5. Prediction"
   ]
  },
  {
   "cell_type": "code",
   "execution_count": 161,
   "metadata": {},
   "outputs": [],
   "source": [
    "# Predict class label\n",
    "# Inputs:\n",
    "#     w: d-by-1 matrix\n",
    "#     X: m-by-d matrix\n",
    "# Return:\n",
    "#     f: m-by-1 matrix, the predictions\n",
    "def predict(w, X):\n",
    "    xw = numpy.dot(X, w)\n",
    "    f = numpy.sign(xw)\n",
    "    return f"
   ]
  },
  {
   "cell_type": "code",
   "execution_count": 162,
   "metadata": {},
   "outputs": [
    {
     "name": "stdout",
     "output_type": "stream",
     "text": [
      "Training classification error is 0.2265625\n"
     ]
    }
   ],
   "source": [
    "# evaluate training error\n",
    "f_train = predict(w, x_train)\n",
    "diff = numpy.abs(f_train - y_train) / 2\n",
    "error_train = numpy.mean(diff)\n",
    "print('Training classification error is ' + str(error_train))"
   ]
  },
  {
   "cell_type": "code",
   "execution_count": 163,
   "metadata": {},
   "outputs": [
    {
     "name": "stdout",
     "output_type": "stream",
     "text": [
      "Test classification error is 0.21875\n"
     ]
    }
   ],
   "source": [
    "# evaluate test error\n",
    "f_test = predict(w, x_test)\n",
    "diff = numpy.abs(f_test - y_test) / 2\n",
    "error_test = numpy.mean(diff)\n",
    "print('Test classification error is ' + str(error_test))"
   ]
  },
  {
   "cell_type": "markdown",
   "metadata": {},
   "source": [
    "# 6. Mini-batch SGD (fill the code)\n",
    "\n"
   ]
  },
  {
   "cell_type": "markdown",
   "metadata": {},
   "source": [
    "## 6.1. Compute the objective $Q_I$ and its gradient using a batch of samples\n",
    "\n",
    "Define $Q_I (w) = \\frac{1}{b} \\sum_{i \\in I} \\log \\Big( 1 + \\exp \\big( - y_i x_i^T w \\big) \\Big) + \\frac{\\lambda}{2} \\| w \\|_2^2 $, where $I$ is a set containing $b$ indices randomly drawn from $\\{ 1, \\cdots , n \\}$ without replacement.\n",
    "\n",
    "The stochastic gradient at $w$ is $g_I = \\frac{\\partial Q_I }{ \\partial w} = \\frac{1}{b} \\sum_{i \\in I} \\frac{- y_i x_i }{1 + \\exp ( y_i x_i^T w)} + \\lambda w$."
   ]
  },
  {
   "cell_type": "code",
   "execution_count": 172,
   "metadata": {},
   "outputs": [],
   "source": [
    "# Calculate the objective Q_I and the gradient of Q_I\n",
    "# Inputs:\n",
    "#     w: d-by-1 matrix\n",
    "#     xi: b-by-d matrix\n",
    "#     yi: b-by-1 matrix\n",
    "#     lam: scalar, the regularization parameter\n",
    "#     b: integer, the batch size\n",
    "# Return:\n",
    "#     obj: scalar, the objective Q_i\n",
    "#     g: d-by-1 matrix, gradient of Q_i\n",
    "def mb_stochastic_objective_gradient(w, xi, yi, lam, b):\n",
    "    # Fill the function\n",
    "    # Follow the implementation of stochastic_objective_gradient\n",
    "    # Use matrix-vector multiplication; do not use FOR LOOP of vector-vector multiplications\n",
    "    ...\n",
    "    yx = yi * xi # 1-by-d matrix\n",
    "    yxw = float(numpy.dot(yx, w)) # scalar\n",
    "    \n",
    "    # calculate objective function Q_i\n",
    "    loss = numpy.log(1 + numpy.exp(-yxw)) # scalar\n",
    "    reg = lam / 2 * numpy.sum(w * w) # scalar\n",
    "    obj = loss + reg\n",
    "    \n",
    "    # calculate stochastic gradient\n",
    "    g_loss = -yx.T / (1 + numpy.exp(yxw)) # d-by-1 matrix\n",
    "    g = g_loss + lam * w # d-by-1 matrix\n",
    "    \n",
    "    return obj, g"
   ]
  },
  {
   "cell_type": "markdown",
   "metadata": {},
   "source": [
    "## 6.2. Implement mini-batch SGD\n",
    "\n",
    "Hints:\n",
    "1. In every epoch, randomly permute the $n$ samples (just like SGD).\n",
    "2. Each epoch has $\\frac{n}{b}$ iterations. In every iteration, use $b$ samples, and compute the gradient and objective using the ``mb_stochastic_objective_gradient`` function. In the next iteration, use the next $b$ samples, and so on.\n"
   ]
  },
  {
   "cell_type": "code",
   "execution_count": 175,
   "metadata": {},
   "outputs": [],
   "source": [
    "# Mini-Batch SGD for solving logistic regression\n",
    "# Inputs:\n",
    "#     x: n-by-d matrix\n",
    "#     y: n-by-1 matrix\n",
    "#     lam: scalar, the regularization parameter\n",
    "#     b: integer, the batch size\n",
    "#     stepsize: scalar\n",
    "#     max_epoch: integer, the maximal epochs\n",
    "#     w: d-by-1 matrix, initialization of w\n",
    "# Return:\n",
    "#     w: the solution\n",
    "#     objvals: record of each iteration's objective value\n",
    "def mb_sgd(x, y, lam, b, stepsize, max_epoch=100, w=None):\n",
    "    # Fill the function\n",
    "    # Follow the implementation of sgd\n",
    "    # Record one objective value per epoch (not per iteration!)\n",
    "    ...\n",
    "    n, d = x.shape\n",
    "    objvals = numpy.zeros(max_epoch) # store the objective values\n",
    "    if w is None:\n",
    "        w = numpy.zeros((d, 1)) # zero initialization\n",
    "    \n",
    "    for t in range(max_epoch):\n",
    "        # randomly shuffle the samples\n",
    "        rand_indices = numpy.random.permutation(n)\n",
    "        x_rand = x[rand_indices, :]\n",
    "        y_rand = y[rand_indices, :]\n",
    "        \n",
    "        objval = 0 # accumulate the objective values\n",
    "        for i in range(n):\n",
    "            xi = x_rand[i, :] # 1-by-d matrix\n",
    "            yi = float(y_rand[i, :]) # scalar\n",
    "            obj, g = stochastic_objective_gradient(w, xi, yi, lam)\n",
    "            objval += obj\n",
    "            w -= stepsize * g\n",
    "            \n",
    "        stepsize *= 0.9 # decrease step size\n",
    "        objval /= n\n",
    "        objvals[t] = objval\n",
    "        print('Objective value at epoch t=' + str(t) + ' is ' + str(objval))\n",
    "    \n",
    "    \n",
    "    return w, objvals"
   ]
  },
  {
   "cell_type": "markdown",
   "metadata": {},
   "source": [
    "## 6.3. Run MB-SGD"
   ]
  },
  {
   "cell_type": "code",
   "execution_count": 176,
   "metadata": {},
   "outputs": [
    {
     "name": "stdout",
     "output_type": "stream",
     "text": [
      "Objective value at epoch t=0 is 0.5296459323818886\n",
      "Objective value at epoch t=1 is 0.5211643022030632\n",
      "Objective value at epoch t=2 is 0.5158233997098823\n",
      "Objective value at epoch t=3 is 0.5069363250474404\n",
      "Objective value at epoch t=4 is 0.5057339551824388\n",
      "Objective value at epoch t=5 is 0.5007851899303635\n",
      "Objective value at epoch t=6 is 0.4935602110365502\n",
      "Objective value at epoch t=7 is 0.49089268454440804\n",
      "Objective value at epoch t=8 is 0.49289173630421523\n",
      "Objective value at epoch t=9 is 0.49478033917729797\n",
      "Objective value at epoch t=10 is 0.48960568725068887\n",
      "Objective value at epoch t=11 is 0.48301106737477617\n",
      "Objective value at epoch t=12 is 0.4876377628134151\n",
      "Objective value at epoch t=13 is 0.4852457528175903\n",
      "Objective value at epoch t=14 is 0.48266039579230774\n",
      "Objective value at epoch t=15 is 0.48300751560973865\n",
      "Objective value at epoch t=16 is 0.4798444186105922\n",
      "Objective value at epoch t=17 is 0.4794466261863155\n",
      "Objective value at epoch t=18 is 0.47909340453164734\n",
      "Objective value at epoch t=19 is 0.4782751794138317\n",
      "Objective value at epoch t=20 is 0.4777437263131308\n",
      "Objective value at epoch t=21 is 0.4763710502137338\n",
      "Objective value at epoch t=22 is 0.4751723517573785\n",
      "Objective value at epoch t=23 is 0.47578094162225604\n",
      "Objective value at epoch t=24 is 0.4750152901282637\n",
      "Objective value at epoch t=25 is 0.4745681697734091\n",
      "Objective value at epoch t=26 is 0.4738975601079546\n",
      "Objective value at epoch t=27 is 0.47354666448279287\n",
      "Objective value at epoch t=28 is 0.47329586622443987\n",
      "Objective value at epoch t=29 is 0.47277046152997926\n",
      "Objective value at epoch t=30 is 0.47255875063555386\n",
      "Objective value at epoch t=31 is 0.4721955673327665\n",
      "Objective value at epoch t=32 is 0.47185818008662245\n",
      "Objective value at epoch t=33 is 0.47169192458183373\n",
      "Objective value at epoch t=34 is 0.4714000175789367\n",
      "Objective value at epoch t=35 is 0.4712958422460238\n",
      "Objective value at epoch t=36 is 0.4710524667213808\n",
      "Objective value at epoch t=37 is 0.470998796597318\n",
      "Objective value at epoch t=38 is 0.4708256639325481\n",
      "Objective value at epoch t=39 is 0.4707116494896292\n",
      "Objective value at epoch t=40 is 0.4706055683894067\n",
      "Objective value at epoch t=41 is 0.4704863878463856\n",
      "Objective value at epoch t=42 is 0.4703972711918203\n",
      "Objective value at epoch t=43 is 0.47030601850907566\n",
      "Objective value at epoch t=44 is 0.47023971457888375\n",
      "Objective value at epoch t=45 is 0.47016822299746847\n",
      "Objective value at epoch t=46 is 0.4701085172673074\n",
      "Objective value at epoch t=47 is 0.4700491360894209\n",
      "Objective value at epoch t=48 is 0.4699987268502248\n",
      "Objective value at epoch t=49 is 0.4699519833378897\n",
      "Objective value at epoch t=50 is 0.469906097028516\n",
      "Objective value at epoch t=51 is 0.4698709186939757\n",
      "Objective value at epoch t=52 is 0.4698380090914749\n",
      "Objective value at epoch t=53 is 0.4698074120715162\n",
      "Objective value at epoch t=54 is 0.4697816148182614\n",
      "Objective value at epoch t=55 is 0.46975560928027305\n",
      "Objective value at epoch t=56 is 0.46973415847062966\n",
      "Objective value at epoch t=57 is 0.46971418527717235\n",
      "Objective value at epoch t=58 is 0.469696184158761\n",
      "Objective value at epoch t=59 is 0.4696800453202091\n",
      "Objective value at epoch t=60 is 0.46966556302588636\n",
      "Objective value at epoch t=61 is 0.4696522936874511\n",
      "Objective value at epoch t=62 is 0.46964046866336684\n",
      "Objective value at epoch t=63 is 0.4696295151509854\n",
      "Objective value at epoch t=64 is 0.4696202614653583\n",
      "Objective value at epoch t=65 is 0.46961153447375265\n",
      "Objective value at epoch t=66 is 0.4696038055207642\n",
      "Objective value at epoch t=67 is 0.4695967366448078\n",
      "Objective value at epoch t=68 is 0.4695904294441565\n",
      "Objective value at epoch t=69 is 0.46958482937860646\n",
      "Objective value at epoch t=70 is 0.4695797035933473\n",
      "Objective value at epoch t=71 is 0.469575118190238\n",
      "Objective value at epoch t=72 is 0.46957097680697146\n",
      "Objective value at epoch t=73 is 0.4695672711561253\n",
      "Objective value at epoch t=74 is 0.4695639199138122\n",
      "Objective value at epoch t=75 is 0.4695608799864265\n",
      "Objective value at epoch t=76 is 0.4695581776200732\n",
      "Objective value at epoch t=77 is 0.46955573341547907\n",
      "Objective value at epoch t=78 is 0.4695535320818979\n",
      "Objective value at epoch t=79 is 0.46955155135806026\n",
      "Objective value at epoch t=80 is 0.4695497763932773\n",
      "Objective value at epoch t=81 is 0.46954816790765525\n",
      "Objective value at epoch t=82 is 0.4695467299591062\n",
      "Objective value at epoch t=83 is 0.46954543014996447\n",
      "Objective value at epoch t=84 is 0.46954426072914374\n",
      "Objective value at epoch t=85 is 0.46954320540809036\n",
      "Objective value at epoch t=86 is 0.4695422600968274\n",
      "Objective value at epoch t=87 is 0.46954140686999013\n",
      "Objective value at epoch t=88 is 0.4695406383225314\n",
      "Objective value at epoch t=89 is 0.46953994944553523\n",
      "Objective value at epoch t=90 is 0.46953932761836753\n",
      "Objective value at epoch t=91 is 0.4695387679838854\n",
      "Objective value at epoch t=92 is 0.46953826466619375\n",
      "Objective value at epoch t=93 is 0.4695378112765648\n",
      "Objective value at epoch t=94 is 0.4695374036699319\n",
      "Objective value at epoch t=95 is 0.4695370365481925\n",
      "Objective value at epoch t=96 is 0.4695367061889031\n",
      "Objective value at epoch t=97 is 0.46953640862427015\n",
      "Objective value at epoch t=98 is 0.46953614111015096\n",
      "Objective value at epoch t=99 is 0.4695359002877281\n"
     ]
    }
   ],
   "source": [
    "# MB-SGD with batch size b=8\n",
    "lam = 1E-6 # do not change\n",
    "b = 8 # do not change\n",
    "stepsize = 0.1 # you must tune this parameter\n",
    "\n",
    "w, objvals_mbsgd8 = mb_sgd(x_train, y_train, lam, b, stepsize)"
   ]
  },
  {
   "cell_type": "code",
   "execution_count": 177,
   "metadata": {},
   "outputs": [
    {
     "name": "stdout",
     "output_type": "stream",
     "text": [
      "Objective value at epoch t=0 is 0.5376710119190664\n",
      "Objective value at epoch t=1 is 0.5118918870095286\n",
      "Objective value at epoch t=2 is 0.5055690824734173\n",
      "Objective value at epoch t=3 is 0.5099449703439841\n",
      "Objective value at epoch t=4 is 0.5061659730377193\n",
      "Objective value at epoch t=5 is 0.5012060310791355\n",
      "Objective value at epoch t=6 is 0.49777838021289733\n",
      "Objective value at epoch t=7 is 0.4924157896851257\n",
      "Objective value at epoch t=8 is 0.4957476464941874\n",
      "Objective value at epoch t=9 is 0.4884753303923156\n",
      "Objective value at epoch t=10 is 0.49015318075764336\n",
      "Objective value at epoch t=11 is 0.4873800995409086\n",
      "Objective value at epoch t=12 is 0.4876688475269993\n",
      "Objective value at epoch t=13 is 0.4846996725227194\n",
      "Objective value at epoch t=14 is 0.4836330979974929\n",
      "Objective value at epoch t=15 is 0.4826718664496846\n",
      "Objective value at epoch t=16 is 0.47735815450175834\n",
      "Objective value at epoch t=17 is 0.4810233650421156\n",
      "Objective value at epoch t=18 is 0.479259619895259\n",
      "Objective value at epoch t=19 is 0.47763971939623867\n",
      "Objective value at epoch t=20 is 0.4769647108643579\n",
      "Objective value at epoch t=21 is 0.4762921917085907\n",
      "Objective value at epoch t=22 is 0.47571533330765864\n",
      "Objective value at epoch t=23 is 0.47567675217695315\n",
      "Objective value at epoch t=24 is 0.4748947554331796\n",
      "Objective value at epoch t=25 is 0.4743038524821336\n",
      "Objective value at epoch t=26 is 0.4738504288694566\n",
      "Objective value at epoch t=27 is 0.4734787137873383\n",
      "Objective value at epoch t=28 is 0.4730888350776154\n",
      "Objective value at epoch t=29 is 0.4726624969077836\n",
      "Objective value at epoch t=30 is 0.47243716583183293\n",
      "Objective value at epoch t=31 is 0.47211071549644534\n",
      "Objective value at epoch t=32 is 0.4718228650251534\n",
      "Objective value at epoch t=33 is 0.4716270046896519\n",
      "Objective value at epoch t=34 is 0.47153476119858456\n",
      "Objective value at epoch t=35 is 0.4713296872825062\n",
      "Objective value at epoch t=36 is 0.4711197638557648\n",
      "Objective value at epoch t=37 is 0.47096823283351846\n",
      "Objective value at epoch t=38 is 0.4708475468457092\n",
      "Objective value at epoch t=39 is 0.47071450837823914\n",
      "Objective value at epoch t=40 is 0.47060739763475584\n",
      "Objective value at epoch t=41 is 0.47049514218392\n",
      "Objective value at epoch t=42 is 0.4703978321787309\n",
      "Objective value at epoch t=43 is 0.4703083272698817\n",
      "Objective value at epoch t=44 is 0.47023994595255125\n",
      "Objective value at epoch t=45 is 0.47016561384174044\n",
      "Objective value at epoch t=46 is 0.4701027952920739\n",
      "Objective value at epoch t=47 is 0.4700455635259079\n",
      "Objective value at epoch t=48 is 0.4699972112563124\n",
      "Objective value at epoch t=49 is 0.46994686711882805\n",
      "Objective value at epoch t=50 is 0.46990674700210844\n",
      "Objective value at epoch t=51 is 0.46987232722617434\n",
      "Objective value at epoch t=52 is 0.4698384432438044\n",
      "Objective value at epoch t=53 is 0.46980895161813113\n",
      "Objective value at epoch t=54 is 0.46977992190843443\n",
      "Objective value at epoch t=55 is 0.4697565755749946\n",
      "Objective value at epoch t=56 is 0.46973408324777005\n",
      "Objective value at epoch t=57 is 0.4697141919779796\n",
      "Objective value at epoch t=58 is 0.4696961604340246\n",
      "Objective value at epoch t=59 is 0.4696798146289979\n",
      "Objective value at epoch t=60 is 0.4696653665104799\n",
      "Objective value at epoch t=61 is 0.4696520606137848\n",
      "Objective value at epoch t=62 is 0.4696399748681146\n",
      "Objective value at epoch t=63 is 0.46962975182146804\n",
      "Objective value at epoch t=64 is 0.46962012941355624\n",
      "Objective value at epoch t=65 is 0.4696114571840869\n",
      "Objective value at epoch t=66 is 0.4696036643710636\n",
      "Objective value at epoch t=67 is 0.4695967301825397\n",
      "Objective value at epoch t=68 is 0.46959041181188627\n",
      "Objective value at epoch t=69 is 0.469584746507405\n",
      "Objective value at epoch t=70 is 0.4695796523600887\n",
      "Objective value at epoch t=71 is 0.4695750612792183\n",
      "Objective value at epoch t=72 is 0.46957093383769655\n",
      "Objective value at epoch t=73 is 0.469567199130704\n",
      "Objective value at epoch t=74 is 0.46956385366884784\n",
      "Objective value at epoch t=75 is 0.46956084026702916\n",
      "Objective value at epoch t=76 is 0.4695581259712517\n",
      "Objective value at epoch t=77 is 0.4695556833588396\n",
      "Objective value at epoch t=78 is 0.46955348144080367\n",
      "Objective value at epoch t=79 is 0.46955150383544\n",
      "Objective value at epoch t=80 is 0.4695497173244919\n",
      "Objective value at epoch t=81 is 0.46954811510352484\n",
      "Objective value at epoch t=82 is 0.46954667642109993\n",
      "Objective value at epoch t=83 is 0.46954537750604464\n",
      "Objective value at epoch t=84 is 0.4695442065617314\n",
      "Objective value at epoch t=85 is 0.4695431561710219\n",
      "Objective value at epoch t=86 is 0.46954220917165274\n",
      "Objective value at epoch t=87 is 0.4695413547830564\n",
      "Objective value at epoch t=88 is 0.46954058813546357\n",
      "Objective value at epoch t=89 is 0.46953989898516557\n",
      "Objective value at epoch t=90 is 0.4695392775680367\n",
      "Objective value at epoch t=91 is 0.46953871727586705\n",
      "Objective value at epoch t=92 is 0.4695382150537874\n",
      "Objective value at epoch t=93 is 0.46953776143294973\n",
      "Objective value at epoch t=94 is 0.4695373541179769\n",
      "Objective value at epoch t=95 is 0.4695369870975535\n",
      "Objective value at epoch t=96 is 0.4695366569144924\n",
      "Objective value at epoch t=97 is 0.46953635960892787\n",
      "Objective value at epoch t=98 is 0.46953609208683095\n",
      "Objective value at epoch t=99 is 0.46953585128004516\n"
     ]
    }
   ],
   "source": [
    "# MB-SGD with batch size b=64\n",
    "lam = 1E-6 # do not change\n",
    "b = 64 # do not change\n",
    "stepsize = 0.1 # you must tune this parameter\n",
    "\n",
    "w, objvals_mbsgd64 = mb_sgd(x_train, y_train, lam, b, stepsize)"
   ]
  },
  {
   "cell_type": "markdown",
   "metadata": {},
   "source": [
    "# 7. Plot and compare GD, SGD, and MB-SGD"
   ]
  },
  {
   "cell_type": "markdown",
   "metadata": {},
   "source": [
    "You are required to compare the following algorithms:\n",
    "\n",
    "- Gradient descent (GD)\n",
    "\n",
    "- SGD\n",
    "\n",
    "- MB-SGD with b=8\n",
    "\n",
    "- MB-SGD with b=64\n",
    "\n",
    "Follow the code in Section 4 to plot ```objective function value``` against ```epochs```. There should be four curves in the plot; each curve corresponds to one algorithm."
   ]
  },
  {
   "cell_type": "markdown",
   "metadata": {},
   "source": [
    "Hint: Logistic regression with $\\ell_2$-norm regularization is a strongly convex optimization problem. All the algorithms will converge to the same solution. **In the end, the ``objective function value`` of the 4 algorithms will be the same. If not the same, your implementation must be wrong. Do NOT submit wrong code and wrong result!**"
   ]
  },
  {
   "cell_type": "code",
   "execution_count": 178,
   "metadata": {},
   "outputs": [
    {
     "data": {
      "image/png": "[encoded data removed]",
      "text/plain": [
       "<Figure size 600x400 with 1 Axes>"
      ]
     },
     "metadata": {},
     "output_type": "display_data"
    }
   ],
   "source": [
    "import matplotlib.pyplot as plt\n",
    "%matplotlib inline\n",
    "\n",
    "fig = plt.figure(figsize=(6, 4))\n",
    "\n",
    "epochs_gd = range(len(objvals_gd))\n",
    "epochs_sgd = range(len(objvals_sgd))\n",
    "epochs_mbsgd8 = range(len(objvals_mbsgd8))\n",
    "epochs_mbsgd64 = range(len(objvals_mbsgd64))\n",
    "\n",
    "line0, = plt.plot(epochs_gd, objvals_gd, '--b', linewidth=4)\n",
    "line1, = plt.plot(epochs_sgd, objvals_sgd, '-r', linewidth=2)\n",
    "line2, = plt.plot(epochs_mbsgd8, objvals_mbsgd8, '-k', linewidth=2)\n",
    "line3, = plt.plot(epochs_mbsgd64, objvals_mbsgd64, '-g', linewidth=2)\n",
    "\n",
    "plt.xlabel('Epochs', fontsize=20)\n",
    "plt.ylabel('Objective Value', fontsize=20)\n",
    "plt.legend([line0, line1, line2, line3], ['GD', 'SGD', 'MB-SGD with b=8', 'MB-SGD with b=64'], fontsize=20)\n",
    "plt.tight_layout()\n",
    "plt.show()\n",
    "fig.savefig('compare_gd_sgd_mbsgds.pdf', format='pdf', dpi=1200)"
   ]
  },
  {
   "cell_type": "markdown",
   "metadata": {},
   "source": []
  }
 ],
 "metadata": {
  "kernelspec": {
   "display_name": "Python 3 (ipykernel)",
   "language": "python",
   "name": "python3"
  },
  "language_info": {
   "codemirror_mode": {
    "name": "ipython",
    "version": 3
   },
   "file_extension": ".py",
   "mimetype": "text/x-python",
   "name": "python",
   "nbconvert_exporter": "python",
   "pygments_lexer": "ipython3",
   "version": "3.9.13"
  }
 },
 "nbformat": 4,
 "nbformat_minor": 2
}
