{
 "cells": [
  {
   "cell_type": "markdown",
   "metadata": {},
   "source": [
    "# Programming Assignment: Numerical Optimization for Logistic Regression.\n",
    "\n",
    "### Name: [Hope Diamantopoulos]\n"
   ]
  },
  {
   "cell_type": "markdown",
   "metadata": {},
   "source": [
    "## 0. You will do the following:\n",
    "\n",
    "1. Read the lecture note: [click here](https://github.com/wangshusen/DeepLearning/blob/master/LectureNotes/Logistic/paper/logistic.pdf)\n",
    "\n",
    "2. Read, complete, and run my code.\n",
    "\n",
    "3. **Implement mini-batch SGD** and evaluate the performance.\n",
    "\n",
    "4. Convert the .IPYNB file to .HTML file.\n",
    "\n",
    "    * The HTML file must contain **the code** and **the output after execution**.\n",
    "    \n",
    "    * Missing **the output after execution** will not be graded.\n",
    "    \n",
    "    \n",
    "5. Upload this .HTML file to your Google Drive, Dropbox, or your Github repo.  (If you submit the file to Google Drive or Dropbox, you must make the file \"open-access\". The delay caused by \"deny of access\" may result in late penalty.)\n",
    "\n",
    "6. On Canvas, submit the Google Drive/Dropbox/Github link to the HTML file.\n",
    "\n",
    "\n",
    "## Grading criteria:\n",
    "\n",
    "1. When computing the ```gradient``` and ```objective function value``` using a batch of samples, use **matrix-vector multiplication** rather than a FOR LOOP of **vector-vector multiplications**.\n",
    "\n",
    "2. Plot ```objective function value``` against ```epochs```. In the plot, compare GD, SGD, and MB-SGD (with $b=8$ and $b=64$). The plot must look reasonable."
   ]
  },
  {
   "cell_type": "code",
   "execution_count": 202,
   "metadata": {},
   "outputs": [],
   "source": [
    "#downloaded as text file into same folder I have this jupyter notebook"
   ]
  },
  {
   "cell_type": "markdown",
   "metadata": {},
   "source": [
    "# 1. Data processing\n",
    "\n",
    "- Download the Diabete dataset from https://www.csie.ntu.edu.tw/~cjlin/libsvmtools/datasets/binary/diabetes\n",
    "- Load the data using sklearn.\n",
    "- Preprocess the data."
   ]
  },
  {
   "cell_type": "markdown",
   "metadata": {},
   "source": [
    "## 1.1. Load the data"
   ]
  },
  {
   "cell_type": "code",
   "execution_count": 203,
   "metadata": {},
   "outputs": [
    {
     "name": "stdout",
     "output_type": "stream",
     "text": [
      "Shape of x: (768, 8)\n",
      "Shape of y: (768,)\n"
     ]
    }
   ],
   "source": [
    "from sklearn import datasets\n",
    "import numpy\n",
    "\n",
    "x_sparse, y = datasets.load_svmlight_file('diabetes.txt')\n",
    "x = x_sparse.todense()\n",
    "\n",
    "print('Shape of x: ' + str(x.shape))\n",
    "print('Shape of y: ' + str(y.shape))"
   ]
  },
  {
   "cell_type": "markdown",
   "metadata": {},
   "source": [
    "## 1.2. Partition to training and test sets"
   ]
  },
  {
   "cell_type": "code",
   "execution_count": 204,
   "metadata": {},
   "outputs": [
    {
     "name": "stdout",
     "output_type": "stream",
     "text": [
      "Shape of x_train: (640, 8)\n",
      "Shape of x_test: (128, 8)\n",
      "Shape of y_train: (640, 1)\n",
      "Shape of y_test: (128, 1)\n"
     ]
    }
   ],
   "source": [
    "# partition the data to training and test sets\n",
    "n = x.shape[0]\n",
    "n_train = 640\n",
    "n_test = n - n_train\n",
    "\n",
    "rand_indices = numpy.random.permutation(n)\n",
    "train_indices = rand_indices[0:n_train]\n",
    "test_indices = rand_indices[n_train:n]\n",
    "\n",
    "x_train = x[train_indices, :]\n",
    "x_test = x[test_indices, :]\n",
    "y_train = y[train_indices].reshape(n_train, 1)\n",
    "y_test = y[test_indices].reshape(n_test, 1)\n",
    "\n",
    "print('Shape of x_train: ' + str(x_train.shape))\n",
    "print('Shape of x_test: ' + str(x_test.shape))\n",
    "print('Shape of y_train: ' + str(y_train.shape))\n",
    "print('Shape of y_test: ' + str(y_test.shape))"
   ]
  },
  {
   "cell_type": "markdown",
   "metadata": {},
   "source": [
    "## 1.3. Feature scaling"
   ]
  },
  {
   "cell_type": "markdown",
   "metadata": {},
   "source": [
    "Use the standardization to trainsform both training and test features"
   ]
  },
  {
   "cell_type": "code",
   "execution_count": 205,
   "metadata": {},
   "outputs": [
    {
     "name": "stdout",
     "output_type": "stream",
     "text": [
      "test mean = \n",
      "[[-0.06986215 -0.01023796  0.00314697  0.03779692 -0.02954031  0.17501984\n",
      "  -0.08625802  0.09025967]]\n",
      "test std = \n",
      "[[0.98038495 0.89244527 0.9935853  1.08536784 0.77983575 1.06587303\n",
      "  0.72659294 0.99572514]]\n"
     ]
    }
   ],
   "source": [
    "# Standardization\n",
    "import numpy\n",
    "\n",
    "# calculate mu and sig using the training set\n",
    "d = x_train.shape[1]\n",
    "mu = numpy.mean(x_train, axis=0).reshape(1, d)\n",
    "sig = numpy.std(x_train, axis=0).reshape(1, d)\n",
    "\n",
    "# transform the training features\n",
    "x_train = (x_train - mu) / (sig + 1E-6)\n",
    "\n",
    "# transform the test features\n",
    "x_test = (x_test - mu) / (sig + 1E-6)\n",
    "\n",
    "print('test mean = ')\n",
    "print(numpy.mean(x_test, axis=0))\n",
    "\n",
    "print('test std = ')\n",
    "print(numpy.std(x_test, axis=0))"
   ]
  },
  {
   "cell_type": "markdown",
   "metadata": {},
   "source": [
    "## 1.4. Add a dimension of all ones"
   ]
  },
  {
   "cell_type": "code",
   "execution_count": 206,
   "metadata": {},
   "outputs": [
    {
     "name": "stdout",
     "output_type": "stream",
     "text": [
      "Shape of x_train: (640, 9)\n",
      "Shape of x_test: (128, 9)\n"
     ]
    }
   ],
   "source": [
    "n_train, d = x_train.shape\n",
    "x_train = numpy.concatenate((x_train, numpy.ones((n_train, 1))), axis=1)\n",
    "\n",
    "n_test, d = x_test.shape\n",
    "x_test = numpy.concatenate((x_test, numpy.ones((n_test, 1))), axis=1)\n",
    "\n",
    "print('Shape of x_train: ' + str(x_train.shape))\n",
    "print('Shape of x_test: ' + str(x_test.shape))"
   ]
  },
  {
   "cell_type": "markdown",
   "metadata": {},
   "source": [
    "# 2. Logistic regression model\n",
    "\n",
    "The objective function is $Q (w; X, y) = \\frac{1}{n} \\sum_{i=1}^n \\log \\Big( 1 + \\exp \\big( - y_i x_i^T w \\big) \\Big) + \\frac{\\lambda}{2} \\| w \\|_2^2 $."
   ]
  },
  {
   "cell_type": "code",
   "execution_count": 207,
   "metadata": {},
   "outputs": [],
   "source": [
    "# Calculate the objective function value\n",
    "# Inputs:\n",
    "#     w: d-by-1 matrix\n",
    "#     x: n-by-d matrix\n",
    "#     y: n-by-1 matrix\n",
    "#     lam: scalar, the regularization parameter\n",
    "# Return:\n",
    "#     objective function value (scalar)\n",
    "def objective(w, x, y, lam):\n",
    "    n, d = x.shape\n",
    "    yx = numpy.multiply(y, x) # n-by-d matrix\n",
    "    yxw = numpy.dot(yx, w) # n-by-1 matrix\n",
    "    vec1 = numpy.exp(-yxw) # n-by-1 matrix\n",
    "    vec2 = numpy.log(1 + vec1) # n-by-1 matrix\n",
    "    loss = numpy.mean(vec2) # scalar\n",
    "    reg = lam / 2 * numpy.sum(w * w) # scalar\n",
    "    return loss + reg\n",
    "    "
   ]
  },
  {
   "cell_type": "code",
   "execution_count": 208,
   "metadata": {},
   "outputs": [
    {
     "name": "stdout",
     "output_type": "stream",
     "text": [
      "Initial objective function value = 0.6931471805599453\n"
     ]
    }
   ],
   "source": [
    "# initialize w\n",
    "d = x_train.shape[1]\n",
    "w = numpy.zeros((d, 1))\n",
    "\n",
    "# evaluate the objective function value at w\n",
    "lam = 1E-6\n",
    "objval0 = objective(w, x_train, y_train, lam)\n",
    "print('Initial objective function value = ' + str(objval0))"
   ]
  },
  {
   "cell_type": "markdown",
   "metadata": {},
   "source": [
    "# 3. Numerical optimization"
   ]
  },
  {
   "cell_type": "markdown",
   "metadata": {},
   "source": [
    "## 3.1. Gradient descent\n"
   ]
  },
  {
   "cell_type": "markdown",
   "metadata": {},
   "source": [
    "The gradient at $w$ is $g = - \\frac{1}{n} \\sum_{i=1}^n \\frac{y_i x_i }{1 + \\exp ( y_i x_i^T w)} + \\lambda w$"
   ]
  },
  {
   "cell_type": "code",
   "execution_count": 209,
   "metadata": {},
   "outputs": [],
   "source": [
    "# Calculate the gradient\n",
    "# Inputs:\n",
    "#     w: d-by-1 matrix\n",
    "#     x: n-by-d matrix\n",
    "#     y: n-by-1 matrix\n",
    "#     lam: scalar, the regularization parameter\n",
    "# Return:\n",
    "#     g: g: d-by-1 matrix, full gradient\n",
    "def gradient(w, x, y, lam):\n",
    "    n, d = x.shape\n",
    "    yx = numpy.multiply(y, x) # n-by-d matrix\n",
    "    yxw = numpy.dot(yx, w) # n-by-1 matrix\n",
    "    vec1 = numpy.exp(yxw) # n-by-1 matrix\n",
    "    vec2 = numpy.divide(yx, 1+vec1) # n-by-d matrix\n",
    "    vec3 = -numpy.mean(vec2, axis=0).reshape(d, 1) # d-by-1 matrix\n",
    "    g = vec3 + lam * w\n",
    "    return g"
   ]
  },
  {
   "cell_type": "code",
   "execution_count": 210,
   "metadata": {},
   "outputs": [],
   "source": [
    "# Gradient descent for solving logistic regression\n",
    "# Inputs:\n",
    "#     x: n-by-d matrix\n",
    "#     y: n-by-1 matrix\n",
    "#     lam: scalar, the regularization parameter\n",
    "#     stepsize: scalar\n",
    "#     max_iter: integer, the maximal iterations\n",
    "#     w: d-by-1 matrix, initialization of w\n",
    "# Return:\n",
    "#     w: d-by-1 matrix, the solution\n",
    "#     objvals: a record of each iteration's objective value\n",
    "def grad_descent(x, y, lam, stepsize, max_iter=100, w=None):\n",
    "    n, d = x.shape\n",
    "    objvals = numpy.zeros(max_iter) # store the objective values\n",
    "    if w is None:\n",
    "        w = numpy.zeros((d, 1)) # zero initialization\n",
    "    \n",
    "    for t in range(max_iter):\n",
    "        objval = objective(w, x, y, lam)\n",
    "        objvals[t] = objval\n",
    "        print('Objective value at t=' + str(t) + ' is ' + str(objval))\n",
    "        g = gradient(w, x, y, lam)\n",
    "        w -= stepsize * g\n",
    "    \n",
    "    return w, objvals"
   ]
  },
  {
   "cell_type": "markdown",
   "metadata": {},
   "source": [
    "Run gradient descent."
   ]
  },
  {
   "cell_type": "code",
   "execution_count": 211,
   "metadata": {},
   "outputs": [
    {
     "name": "stdout",
     "output_type": "stream",
     "text": [
      "Objective value at t=0 is 0.6931471805599453\n",
      "Objective value at t=1 is 0.5945683941666562\n",
      "Objective value at t=2 is 0.5538594936875892\n",
      "Objective value at t=3 is 0.5319599994695986\n",
      "Objective value at t=4 is 0.5183345158604522\n",
      "Objective value at t=5 is 0.5091422452901528\n",
      "Objective value at t=6 is 0.5026239995025601\n",
      "Objective value at t=7 is 0.4978439757668262\n",
      "Objective value at t=8 is 0.4942519953025057\n",
      "Objective value at t=9 is 0.49150158132280414\n",
      "Objective value at t=10 is 0.4893635935929748\n",
      "Objective value at t=11 is 0.4876808759197057\n",
      "Objective value at t=12 is 0.48634255154543693\n",
      "Objective value at t=13 is 0.48526858660350863\n",
      "Objective value at t=14 is 0.4844000987239795\n",
      "Objective value at t=15 is 0.48369305628390213\n",
      "Objective value at t=16 is 0.4831140645490746\n",
      "Objective value at t=17 is 0.4826374802143965\n",
      "Objective value at t=18 is 0.4822433952094598\n",
      "Objective value at t=19 is 0.48191620272619257\n",
      "Objective value at t=20 is 0.48164356113738477\n",
      "Objective value at t=21 is 0.48141563470542714\n",
      "Objective value at t=22 is 0.48122452992930564\n",
      "Objective value at t=23 is 0.48106387218416663\n",
      "Objective value at t=24 is 0.4809284843049005\n",
      "Objective value at t=25 is 0.4808141401553742\n",
      "Objective value at t=26 is 0.480717373977972\n",
      "Objective value at t=27 is 0.4806353316715071\n",
      "Objective value at t=28 is 0.4805656538912726\n",
      "Objective value at t=29 is 0.48050638351832314\n",
      "Objective value at t=30 is 0.48045589194638727\n",
      "Objective value at t=31 is 0.480412820012066\n",
      "Objective value at t=32 is 0.4803760304018456\n",
      "Objective value at t=33 is 0.4803445691141149\n",
      "Objective value at t=34 is 0.4803176341095733\n",
      "Objective value at t=35 is 0.48029454970092095\n",
      "Objective value at t=36 is 0.48027474554920063\n",
      "Objective value at t=37 is 0.48025773937592153\n",
      "Objective value at t=38 is 0.4802431226860828\n",
      "Objective value at t=39 is 0.4802305489412934\n",
      "Objective value at t=40 is 0.48021972373448935\n",
      "Objective value at t=41 is 0.4802103966058401\n",
      "Objective value at t=42 is 0.48020235420890256\n",
      "Objective value at t=43 is 0.48019541459117665\n",
      "Objective value at t=44 is 0.48018942239711415\n",
      "Objective value at t=45 is 0.4801842448367943\n",
      "Objective value at t=46 is 0.4801797682917451\n",
      "Objective value at t=47 is 0.4801758954522352\n",
      "Objective value at t=48 is 0.4801725428988704\n",
      "Objective value at t=49 is 0.4801696390564017\n",
      "Objective value at t=50 is 0.48016712245996146\n",
      "Objective value at t=51 is 0.48016494028401996\n",
      "Objective value at t=52 is 0.4801630470926512\n",
      "Objective value at t=53 is 0.48016140377651867\n",
      "Objective value at t=54 is 0.4801599766476434\n",
      "Objective value at t=55 is 0.4801587366676894\n",
      "Objective value at t=56 is 0.48015765878938854\n",
      "Objective value at t=57 is 0.48015672139395865\n",
      "Objective value at t=58 is 0.4801559058100686\n",
      "Objective value at t=59 is 0.4801551959021559\n",
      "Objective value at t=60 is 0.4801545777177913\n",
      "Objective value at t=61 is 0.4801540391853715\n",
      "Objective value at t=62 is 0.48015356985474605\n",
      "Objective value at t=63 is 0.48015316067451225\n",
      "Objective value at t=64 is 0.480152803800649\n",
      "Objective value at t=65 is 0.4801524924319625\n",
      "Objective value at t=66 is 0.48015222066849\n",
      "Objective value at t=67 is 0.4801519833895732\n",
      "Objective value at t=68 is 0.48015177614880367\n",
      "Objective value at t=69 is 0.4801515950834467\n",
      "Objective value at t=70 is 0.4801514368362983\n",
      "Objective value at t=71 is 0.48015129848823296\n",
      "Objective value at t=72 is 0.4801511774999399\n",
      "Objective value at t=73 is 0.4801510716615719\n",
      "Objective value at t=74 is 0.480150979049205\n",
      "Objective value at t=75 is 0.48015089798717026\n",
      "Objective value at t=76 is 0.4801508270154451\n",
      "Objective value at t=77 is 0.4801507648614133\n",
      "Objective value at t=78 is 0.4801507104153932\n",
      "Objective value at t=79 is 0.4801506627094236\n",
      "Objective value at t=80 is 0.4801506208988617\n",
      "Objective value at t=81 is 0.4801505842464157\n",
      "Objective value at t=82 is 0.48015055210828167\n",
      "Objective value at t=83 is 0.4801505239221027\n",
      "Objective value at t=84 is 0.48015049919650604\n",
      "Objective value at t=85 is 0.48015047750200746\n",
      "Objective value at t=86 is 0.4801504584631003\n",
      "Objective value at t=87 is 0.4801504417513734\n",
      "Objective value at t=88 is 0.4801504270795205\n",
      "Objective value at t=89 is 0.4801504141961232\n",
      "Objective value at t=90 is 0.4801504028811076\n",
      "Objective value at t=91 is 0.4801503929417841\n",
      "Objective value at t=92 is 0.4801503842093956\n",
      "Objective value at t=93 is 0.4801503765361071\n",
      "Objective value at t=94 is 0.4801503697923796\n",
      "Objective value at t=95 is 0.4801503638646782\n",
      "Objective value at t=96 is 0.4801503586534714\n",
      "Objective value at t=97 is 0.4801503540714839\n",
      "Objective value at t=98 is 0.4801503500421703\n",
      "Objective value at t=99 is 0.4801503464983813\n"
     ]
    }
   ],
   "source": [
    "lam = 1E-6\n",
    "stepsize = 1.0\n",
    "w, objvals_gd = grad_descent(x_train, y_train, lam, stepsize)"
   ]
  },
  {
   "cell_type": "markdown",
   "metadata": {},
   "source": [
    "## 3.2. Stochastic gradient descent (SGD)\n",
    "\n",
    "Define $Q_i (w) = \\log \\Big( 1 + \\exp \\big( - y_i x_i^T w \\big) \\Big) + \\frac{\\lambda}{2} \\| w \\|_2^2 $.\n",
    "\n",
    "The stochastic gradient at $w$ is $g_i = \\frac{\\partial Q_i }{ \\partial w} = -\\frac{y_i x_i }{1 + \\exp ( y_i x_i^T w)} + \\lambda w$."
   ]
  },
  {
   "cell_type": "code",
   "execution_count": 212,
   "metadata": {},
   "outputs": [],
   "source": [
    "# Calculate the objective Q_i and the gradient of Q_i\n",
    "# Inputs:\n",
    "#     w: d-by-1 matrix\n",
    "#     xi: 1-by-d matrix\n",
    "#     yi: scalar\n",
    "#     lam: scalar, the regularization parameter\n",
    "# Return:\n",
    "#     obj: scalar, the objective Q_i\n",
    "#     g: d-by-1 matrix, gradient of Q_i\n",
    "def stochastic_objective_gradient(w, xi, yi, lam):\n",
    "    yx = yi * xi # 1-by-d matrix\n",
    "    yxw = float(numpy.dot(yx, w)) # scalar\n",
    "    \n",
    "    # calculate objective function Q_i\n",
    "    loss = numpy.log(1 + numpy.exp(-yxw)) # scalar\n",
    "    reg = lam / 2 * numpy.sum(w * w) # scalar\n",
    "    obj = loss + reg\n",
    "    \n",
    "    # calculate stochastic gradient\n",
    "    g_loss = -yx.T / (1 + numpy.exp(yxw)) # d-by-1 matrix\n",
    "    g = g_loss + lam * w # d-by-1 matrix\n",
    "    \n",
    "    return obj, g"
   ]
  },
  {
   "cell_type": "code",
   "execution_count": 213,
   "metadata": {},
   "outputs": [],
   "source": [
    "# SGD for solving logistic regression\n",
    "# Inputs:\n",
    "#     x: n-by-d matrix\n",
    "#     y: n-by-1 matrix\n",
    "#     lam: scalar, the regularization parameter\n",
    "#     stepsize: scalar\n",
    "#     max_epoch: integer, the maximal epochs\n",
    "#     w: d-by-1 matrix, initialization of w\n",
    "# Return:\n",
    "#     w: the solution\n",
    "#     objvals: record of each iteration's objective value\n",
    "def sgd(x, y, lam, stepsize, max_epoch=100, w=None):\n",
    "    n, d = x.shape\n",
    "    objvals = numpy.zeros(max_epoch) # store the objective values\n",
    "    if w is None:\n",
    "        w = numpy.zeros((d, 1)) # zero initialization\n",
    "    \n",
    "    for t in range(max_epoch):\n",
    "        # randomly shuffle the samples\n",
    "        rand_indices = numpy.random.permutation(n)\n",
    "        x_rand = x[rand_indices, :]\n",
    "        y_rand = y[rand_indices, :]\n",
    "        \n",
    "        objval = 0 # accumulate the objective values\n",
    "        for i in range(n):\n",
    "            xi = x_rand[i, :] # 1-by-d matrix\n",
    "            yi = float(y_rand[i, :]) # scalar\n",
    "            obj, g = stochastic_objective_gradient(w, xi, yi, lam)\n",
    "            objval += obj\n",
    "            w -= stepsize * g\n",
    "        \n",
    "        stepsize *= 0.9 # decrease step size\n",
    "        objval /= n\n",
    "        objvals[t] = objval\n",
    "        print('Objective value at epoch t=' + str(t) + ' is ' + str(objval))\n",
    "    \n",
    "    return w, objvals"
   ]
  },
  {
   "cell_type": "markdown",
   "metadata": {},
   "source": [
    "Run SGD."
   ]
  },
  {
   "cell_type": "code",
   "execution_count": 214,
   "metadata": {},
   "outputs": [
    {
     "name": "stdout",
     "output_type": "stream",
     "text": [
      "Objective value at epoch t=0 is 0.5529998233142815\n",
      "Objective value at epoch t=1 is 0.5390057579325126\n",
      "Objective value at epoch t=2 is 0.5225759894790205\n",
      "Objective value at epoch t=3 is 0.5124105448658013\n",
      "Objective value at epoch t=4 is 0.5201210569243881\n",
      "Objective value at epoch t=5 is 0.5118205793561595\n",
      "Objective value at epoch t=6 is 0.5097218935802255\n",
      "Objective value at epoch t=7 is 0.506117700613696\n",
      "Objective value at epoch t=8 is 0.499585649322993\n",
      "Objective value at epoch t=9 is 0.5031520107718269\n",
      "Objective value at epoch t=10 is 0.5002149159225125\n",
      "Objective value at epoch t=11 is 0.49914539504502126\n",
      "Objective value at epoch t=12 is 0.4970208999991974\n",
      "Objective value at epoch t=13 is 0.4941998089906243\n",
      "Objective value at epoch t=14 is 0.49574499686356804\n",
      "Objective value at epoch t=15 is 0.49431415347073415\n",
      "Objective value at epoch t=16 is 0.4915700082388129\n",
      "Objective value at epoch t=17 is 0.49066587767343856\n",
      "Objective value at epoch t=18 is 0.4894545524301474\n",
      "Objective value at epoch t=19 is 0.4884680557750217\n",
      "Objective value at epoch t=20 is 0.48891957725603563\n",
      "Objective value at epoch t=21 is 0.48716652216898054\n",
      "Objective value at epoch t=22 is 0.48665632187768393\n",
      "Objective value at epoch t=23 is 0.4853843171418715\n",
      "Objective value at epoch t=24 is 0.48497001022330977\n",
      "Objective value at epoch t=25 is 0.484861531020022\n",
      "Objective value at epoch t=26 is 0.48508027104724577\n",
      "Objective value at epoch t=27 is 0.4844703573852548\n",
      "Objective value at epoch t=28 is 0.4839231563813192\n",
      "Objective value at epoch t=29 is 0.48357347675101564\n",
      "Objective value at epoch t=30 is 0.4833777151844084\n",
      "Objective value at epoch t=31 is 0.48299270462438304\n",
      "Objective value at epoch t=32 is 0.4827252173834863\n",
      "Objective value at epoch t=33 is 0.48247005446443136\n",
      "Objective value at epoch t=34 is 0.48222918382141094\n",
      "Objective value at epoch t=35 is 0.48204718558647575\n",
      "Objective value at epoch t=36 is 0.4818572121424592\n",
      "Objective value at epoch t=37 is 0.4816427508757456\n",
      "Objective value at epoch t=38 is 0.48149879652297517\n",
      "Objective value at epoch t=39 is 0.4813648853328282\n",
      "Objective value at epoch t=40 is 0.4812570079058617\n",
      "Objective value at epoch t=41 is 0.48112062597214555\n",
      "Objective value at epoch t=42 is 0.48108874522720074\n",
      "Objective value at epoch t=43 is 0.48099579301346596\n",
      "Objective value at epoch t=44 is 0.4808889128395455\n",
      "Objective value at epoch t=45 is 0.4808343140865895\n",
      "Objective value at epoch t=46 is 0.48076502043332886\n",
      "Objective value at epoch t=47 is 0.48070225154982965\n",
      "Objective value at epoch t=48 is 0.48064413996505817\n",
      "Objective value at epoch t=49 is 0.4805985963659173\n",
      "Objective value at epoch t=50 is 0.4805527635452062\n",
      "Objective value at epoch t=51 is 0.48051077514832075\n",
      "Objective value at epoch t=52 is 0.4804763123180936\n",
      "Objective value at epoch t=53 is 0.48044463466014015\n",
      "Objective value at epoch t=54 is 0.48041528523030974\n",
      "Objective value at epoch t=55 is 0.48038764668310874\n",
      "Objective value at epoch t=56 is 0.4803637883921776\n",
      "Objective value at epoch t=57 is 0.480343080806533\n",
      "Objective value at epoch t=58 is 0.4803239963899747\n",
      "Objective value at epoch t=59 is 0.4803070359924983\n",
      "Objective value at epoch t=60 is 0.4802913048311736\n",
      "Objective value at epoch t=61 is 0.4802772472123239\n",
      "Objective value at epoch t=62 is 0.4802645130703606\n",
      "Objective value at epoch t=63 is 0.4802533967027721\n",
      "Objective value at epoch t=64 is 0.48024310435045753\n",
      "Objective value at epoch t=65 is 0.48023396078608266\n",
      "Objective value at epoch t=66 is 0.48022563810369656\n",
      "Objective value at epoch t=67 is 0.48021830288924894\n",
      "Objective value at epoch t=68 is 0.4802115469725485\n",
      "Objective value at epoch t=69 is 0.48020555311652907\n",
      "Objective value at epoch t=70 is 0.48020011496781345\n",
      "Objective value at epoch t=71 is 0.4801952277344008\n",
      "Objective value at epoch t=72 is 0.48019081829527466\n",
      "Objective value at epoch t=73 is 0.48018687326952947\n",
      "Objective value at epoch t=74 is 0.4801833084087203\n",
      "Objective value at epoch t=75 is 0.4801800809083587\n",
      "Objective value at epoch t=76 is 0.480177198832222\n",
      "Objective value at epoch t=77 is 0.4801745969783481\n",
      "Objective value at epoch t=78 is 0.4801722754561089\n",
      "Objective value at epoch t=79 is 0.48017016655906586\n",
      "Objective value at epoch t=80 is 0.4801682683737879\n",
      "Objective value at epoch t=81 is 0.4801665644702272\n",
      "Objective value at epoch t=82 is 0.4801650279339539\n",
      "Objective value at epoch t=83 is 0.48016364710207443\n",
      "Objective value at epoch t=84 is 0.48016240561343937\n",
      "Objective value at epoch t=85 is 0.4801612871783523\n",
      "Objective value at epoch t=86 is 0.48016027963732544\n",
      "Objective value at epoch t=87 is 0.4801593713674691\n",
      "Objective value at epoch t=88 is 0.480158557798153\n",
      "Objective value at epoch t=89 is 0.48015782351112424\n",
      "Objective value at epoch t=90 is 0.48015716265952557\n",
      "Objective value at epoch t=91 is 0.48015656783905963\n",
      "Objective value at epoch t=92 is 0.4801560324471722\n",
      "Objective value at epoch t=93 is 0.4801555505281443\n",
      "Objective value at epoch t=94 is 0.4801551170683038\n",
      "Objective value at epoch t=95 is 0.480154726336054\n",
      "Objective value at epoch t=96 is 0.4801543756256814\n",
      "Objective value at epoch t=97 is 0.48015405955255935\n",
      "Objective value at epoch t=98 is 0.48015377503364176\n",
      "Objective value at epoch t=99 is 0.4801535190000907\n"
     ]
    }
   ],
   "source": [
    "lam = 1E-6\n",
    "stepsize = 0.1\n",
    "w, objvals_sgd = sgd(x_train, y_train, lam, stepsize)"
   ]
  },
  {
   "cell_type": "markdown",
   "metadata": {},
   "source": [
    "# 4. Compare GD with SGD\n",
    "\n",
    "Plot objective function values against epochs."
   ]
  },
  {
   "cell_type": "code",
   "execution_count": 215,
   "metadata": {},
   "outputs": [
    {
     "data": {
      "image/png": "[encoded data removed]",
      "text/plain": [
       "<Figure size 600x400 with 1 Axes>"
      ]
     },
     "metadata": {},
     "output_type": "display_data"
    }
   ],
   "source": [
    "import matplotlib.pyplot as plt\n",
    "%matplotlib inline\n",
    "\n",
    "fig = plt.figure(figsize=(6, 4))\n",
    "\n",
    "epochs_gd = range(len(objvals_gd))\n",
    "epochs_sgd = range(len(objvals_sgd))\n",
    "\n",
    "line0, = plt.plot(epochs_gd, objvals_gd, '--b', linewidth=4)\n",
    "line1, = plt.plot(epochs_sgd, objvals_sgd, '-r', linewidth=2)\n",
    "plt.xlabel('Epochs', fontsize=20)\n",
    "plt.ylabel('Objective Value', fontsize=20)\n",
    "plt.xticks(fontsize=16)\n",
    "plt.yticks(fontsize=16)\n",
    "plt.legend([line0, line1], ['GD', 'SGD'], fontsize=20)\n",
    "plt.tight_layout()\n",
    "plt.show()\n",
    "fig.savefig('compare_gd_sgd.pdf', format='pdf', dpi=1200)"
   ]
  },
  {
   "cell_type": "markdown",
   "metadata": {},
   "source": [
    "# 5. Prediction"
   ]
  },
  {
   "cell_type": "code",
   "execution_count": 216,
   "metadata": {},
   "outputs": [],
   "source": [
    "# Predict class label\n",
    "# Inputs:\n",
    "#     w: d-by-1 matrix\n",
    "#     X: m-by-d matrix\n",
    "# Return:\n",
    "#     f: m-by-1 matrix, the predictions\n",
    "def predict(w, X):\n",
    "    xw = numpy.dot(X, w)\n",
    "    f = numpy.sign(xw)\n",
    "    return f"
   ]
  },
  {
   "cell_type": "code",
   "execution_count": 217,
   "metadata": {},
   "outputs": [
    {
     "name": "stdout",
     "output_type": "stream",
     "text": [
      "Training classification error is 0.21875\n"
     ]
    }
   ],
   "source": [
    "# evaluate training error\n",
    "f_train = predict(w, x_train)\n",
    "diff = numpy.abs(f_train - y_train) / 2\n",
    "error_train = numpy.mean(diff)\n",
    "print('Training classification error is ' + str(error_train))"
   ]
  },
  {
   "cell_type": "code",
   "execution_count": 218,
   "metadata": {},
   "outputs": [
    {
     "name": "stdout",
     "output_type": "stream",
     "text": [
      "Test classification error is 0.203125\n"
     ]
    }
   ],
   "source": [
    "# evaluate test error\n",
    "f_test = predict(w, x_test)\n",
    "diff = numpy.abs(f_test - y_test) / 2\n",
    "error_test = numpy.mean(diff)\n",
    "print('Test classification error is ' + str(error_test))"
   ]
  },
  {
   "cell_type": "markdown",
   "metadata": {},
   "source": [
    "# 6. Mini-batch SGD (fill the code)\n",
    "\n"
   ]
  },
  {
   "cell_type": "markdown",
   "metadata": {},
   "source": [
    "## 6.1. Compute the objective $Q_I$ and its gradient using a batch of samples\n",
    "\n",
    "Define $Q_I (w) = \\frac{1}{b} \\sum_{i \\in I} \\log \\Big( 1 + \\exp \\big( - y_i x_i^T w \\big) \\Big) + \\frac{\\lambda}{2} \\| w \\|_2^2 $, where $I$ is a set containing $b$ indices randomly drawn from $\\{ 1, \\cdots , n \\}$ without replacement.\n",
    "\n",
    "The stochastic gradient at $w$ is $g_I = \\frac{\\partial Q_I }{ \\partial w} = \\frac{1}{b} \\sum_{i \\in I} \\frac{- y_i x_i }{1 + \\exp ( y_i x_i^T w)} + \\lambda w$."
   ]
  },
  {
   "cell_type": "code",
   "execution_count": 219,
   "metadata": {},
   "outputs": [],
   "source": [
    "# Calculate the objective Q_I and the gradient of Q_I\n",
    "# Inputs:\n",
    "#     w: d-by-1 matrix\n",
    "#     xi: b-by-d matrix\n",
    "#     yi: b-by-1 matrix\n",
    "#     lam: scalar, the regularization parameter\n",
    "#     b: integer, the batch size\n",
    "# Return:\n",
    "#     obj: scalar, the objective Q_i\n",
    "#     g: d-by-1 matrix, gradient of Q_i\n",
    "def mb_stochastic_objective_gradient(w, xi, yi, lam, b):\n",
    "    # Fill the function\n",
    "    # Follow the implementation of stochastic_objective_gradient\n",
    "    # Use matrix-vector multiplication; do not use FOR LOOP of vector-vector multiplications\n",
    "    ...\n",
    "    yx = yi * xi # 1-by-d matrix\n",
    "    yxw = float(numpy.dot(yx, w)) # scalar\n",
    "    \n",
    "    # calculate objective function Q_i\n",
    "    loss = numpy.log(1 + numpy.exp(-yxw)) # scalar\n",
    "    reg = lam / 2 * numpy.sum(w * w) # scalar\n",
    "    obj = loss + reg\n",
    "    \n",
    "    # calculate stochastic gradient\n",
    "    g_loss = -yx.T / (1 + numpy.exp(yxw)) # d-by-1 matrix\n",
    "    g = g_loss + lam * w # d-by-1 matrix\n",
    "    \n",
    "    return obj, g"
   ]
  },
  {
   "cell_type": "markdown",
   "metadata": {},
   "source": [
    "## 6.2. Implement mini-batch SGD\n",
    "\n",
    "Hints:\n",
    "1. In every epoch, randomly permute the $n$ samples (just like SGD).\n",
    "2. Each epoch has $\\frac{n}{b}$ iterations. In every iteration, use $b$ samples, and compute the gradient and objective using the ``mb_stochastic_objective_gradient`` function. In the next iteration, use the next $b$ samples, and so on.\n"
   ]
  },
  {
   "cell_type": "code",
   "execution_count": 220,
   "metadata": {},
   "outputs": [],
   "source": [
    "# Mini-Batch SGD for solving logistic regression\n",
    "# Inputs:\n",
    "#     x: n-by-d matrix\n",
    "#     y: n-by-1 matrix\n",
    "#     lam: scalar, the regularization parameter\n",
    "#     b: integer, the batch size\n",
    "#     stepsize: scalar\n",
    "#     max_epoch: integer, the maximal epochs\n",
    "#     w: d-by-1 matrix, initialization of w\n",
    "# Return:\n",
    "#     w: the solution\n",
    "#     objvals: record of each iteration's objective value\n",
    "def mb_sgd(x, y, lam, b, stepsize, max_epoch=100, w=None):\n",
    "    # Fill the function\n",
    "    # Follow the implementation of sgd\n",
    "    # Record one objective value per epoch (not per iteration!)\n",
    "    ...\n",
    "    n, d = x.shape\n",
    "    objvals = numpy.zeros(max_epoch) # store the objective values\n",
    "    if w is None:\n",
    "        w = numpy.zeros((d, 1)) # zero initialization\n",
    "    \n",
    "    for t in range(max_epoch):\n",
    "        # randomly shuffle the samples\n",
    "        rand_indices = numpy.random.permutation(n)\n",
    "        x_rand = x[rand_indices, :]\n",
    "        y_rand = y[rand_indices, :]\n",
    "        \n",
    "        objval = 0 # accumulate the objective values\n",
    "        for i in range(n):\n",
    "            xi = x_rand[i, :] # 1-by-d matrix\n",
    "            yi = float(y_rand[i, :]) # scalar\n",
    "            obj, g = stochastic_objective_gradient(w, xi, yi, lam)\n",
    "            objval += obj\n",
    "            w -= stepsize * g\n",
    "            \n",
    "        stepsize *= 0.9 # decrease step size\n",
    "        objval /= n\n",
    "        objvals[t] = objval\n",
    "        print('Objective value at epoch t=' + str(t) + ' is ' + str(objval))\n",
    "    \n",
    "    \n",
    "    return w, objvals"
   ]
  },
  {
   "cell_type": "markdown",
   "metadata": {},
   "source": [
    "## 6.3. Run MB-SGD"
   ]
  },
  {
   "cell_type": "code",
   "execution_count": 221,
   "metadata": {},
   "outputs": [
    {
     "name": "stdout",
     "output_type": "stream",
     "text": [
      "Objective value at epoch t=0 is 0.5511479460641567\n",
      "Objective value at epoch t=1 is 0.5310563495626371\n",
      "Objective value at epoch t=2 is 0.5140208919356518\n",
      "Objective value at epoch t=3 is 0.5225824889220448\n",
      "Objective value at epoch t=4 is 0.5170549148141255\n",
      "Objective value at epoch t=5 is 0.5139510218016385\n",
      "Objective value at epoch t=6 is 0.5038795935009197\n",
      "Objective value at epoch t=7 is 0.5117845697859073\n",
      "Objective value at epoch t=8 is 0.4998924774528608\n",
      "Objective value at epoch t=9 is 0.5018241211709182\n",
      "Objective value at epoch t=10 is 0.501100081389882\n",
      "Objective value at epoch t=11 is 0.5013210216767954\n",
      "Objective value at epoch t=12 is 0.49866124100304293\n",
      "Objective value at epoch t=13 is 0.4947707833326742\n",
      "Objective value at epoch t=14 is 0.49343846910353373\n",
      "Objective value at epoch t=15 is 0.4948316566843392\n",
      "Objective value at epoch t=16 is 0.4915564760748394\n",
      "Objective value at epoch t=17 is 0.48932706819494276\n",
      "Objective value at epoch t=18 is 0.4914963481850864\n",
      "Objective value at epoch t=19 is 0.48979226889394517\n",
      "Objective value at epoch t=20 is 0.48864748323924634\n",
      "Objective value at epoch t=21 is 0.48771822915522245\n",
      "Objective value at epoch t=22 is 0.4869518599139444\n",
      "Objective value at epoch t=23 is 0.48636780264606294\n",
      "Objective value at epoch t=24 is 0.4858757495635014\n",
      "Objective value at epoch t=25 is 0.48499017149898743\n",
      "Objective value at epoch t=26 is 0.4848207813777899\n",
      "Objective value at epoch t=27 is 0.4841759912180013\n",
      "Objective value at epoch t=28 is 0.48396491050507534\n",
      "Objective value at epoch t=29 is 0.4835155762289191\n",
      "Objective value at epoch t=30 is 0.48329728728899984\n",
      "Objective value at epoch t=31 is 0.4829597279345859\n",
      "Objective value at epoch t=32 is 0.48264781364009623\n",
      "Objective value at epoch t=33 is 0.482487038630924\n",
      "Objective value at epoch t=34 is 0.48225902942879006\n",
      "Objective value at epoch t=35 is 0.4820067422198539\n",
      "Objective value at epoch t=36 is 0.4818649050606057\n",
      "Objective value at epoch t=37 is 0.48165940689871267\n",
      "Objective value at epoch t=38 is 0.48154571457718864\n",
      "Objective value at epoch t=39 is 0.48137663050733137\n",
      "Objective value at epoch t=40 is 0.4812685595904306\n",
      "Objective value at epoch t=41 is 0.4811721229092732\n",
      "Objective value at epoch t=42 is 0.4810698859683721\n",
      "Objective value at epoch t=43 is 0.48095326842651787\n",
      "Objective value at epoch t=44 is 0.48088699912113164\n",
      "Objective value at epoch t=45 is 0.48082586271874056\n",
      "Objective value at epoch t=46 is 0.48074782364552704\n",
      "Objective value at epoch t=47 is 0.4806956415669171\n",
      "Objective value at epoch t=48 is 0.4806429710857934\n",
      "Objective value at epoch t=49 is 0.48059219848750745\n",
      "Objective value at epoch t=50 is 0.4805499802460327\n",
      "Objective value at epoch t=51 is 0.48051041282031537\n",
      "Objective value at epoch t=52 is 0.48047311603401016\n",
      "Objective value at epoch t=53 is 0.4804421135775784\n",
      "Objective value at epoch t=54 is 0.48041226590694064\n",
      "Objective value at epoch t=55 is 0.48038520917919286\n",
      "Objective value at epoch t=56 is 0.4803629029935985\n",
      "Objective value at epoch t=57 is 0.4803415999262719\n",
      "Objective value at epoch t=58 is 0.4803226599621576\n",
      "Objective value at epoch t=59 is 0.4803057179226985\n",
      "Objective value at epoch t=60 is 0.4802898134437313\n",
      "Objective value at epoch t=61 is 0.4802763777149434\n",
      "Objective value at epoch t=62 is 0.4802634341098472\n",
      "Objective value at epoch t=63 is 0.48025241314422384\n",
      "Objective value at epoch t=64 is 0.48024215853480057\n",
      "Objective value at epoch t=65 is 0.4802330940731069\n",
      "Objective value at epoch t=66 is 0.4802248942902215\n",
      "Objective value at epoch t=67 is 0.4802174009278491\n",
      "Objective value at epoch t=68 is 0.48021072937782605\n",
      "Objective value at epoch t=69 is 0.48020478671440986\n",
      "Objective value at epoch t=70 is 0.4801993833783823\n",
      "Objective value at epoch t=71 is 0.48019445286539925\n",
      "Objective value at epoch t=72 is 0.4801901164639367\n",
      "Objective value at epoch t=73 is 0.4801861477272489\n",
      "Objective value at epoch t=74 is 0.48018261668299866\n",
      "Objective value at epoch t=75 is 0.48017941588027896\n",
      "Objective value at epoch t=76 is 0.4801765420025559\n",
      "Objective value at epoch t=77 is 0.4801739552101004\n",
      "Objective value at epoch t=78 is 0.4801716151669123\n",
      "Objective value at epoch t=79 is 0.4801695239974304\n",
      "Objective value at epoch t=80 is 0.4801676192083003\n",
      "Objective value at epoch t=81 is 0.48016593715023265\n",
      "Objective value at epoch t=82 is 0.48016440465890786\n",
      "Objective value at epoch t=83 is 0.48016302883888323\n",
      "Objective value at epoch t=84 is 0.4801617905912258\n",
      "Objective value at epoch t=85 is 0.4801606733934268\n",
      "Objective value at epoch t=86 is 0.4801596694111514\n",
      "Objective value at epoch t=87 is 0.48015876701097804\n",
      "Objective value at epoch t=88 is 0.48015795375625203\n",
      "Objective value at epoch t=89 is 0.4801572218328675\n",
      "Objective value at epoch t=90 is 0.48015656223453795\n",
      "Objective value at epoch t=91 is 0.4801559693272148\n",
      "Objective value at epoch t=92 is 0.48015543586080234\n",
      "Objective value at epoch t=93 is 0.48015495551852166\n",
      "Objective value at epoch t=94 is 0.48015452344296616\n",
      "Objective value at epoch t=95 is 0.4801541342747357\n",
      "Objective value at epoch t=96 is 0.48015378428737077\n",
      "Objective value at epoch t=97 is 0.48015346913935175\n",
      "Objective value at epoch t=98 is 0.4801531856997059\n",
      "Objective value at epoch t=99 is 0.48015293037648377\n"
     ]
    }
   ],
   "source": [
    "# MB-SGD with batch size b=8\n",
    "lam = 1E-6 # do not change\n",
    "b = 8 # do not change\n",
    "stepsize = 0.1 # you must tune this parameter\n",
    "\n",
    "w, objvals_mbsgd8 = mb_sgd(x_train, y_train, lam, b, stepsize)"
   ]
  },
  {
   "cell_type": "code",
   "execution_count": 222,
   "metadata": {},
   "outputs": [
    {
     "name": "stdout",
     "output_type": "stream",
     "text": [
      "Objective value at epoch t=0 is 0.5484189830481826\n",
      "Objective value at epoch t=1 is 0.528847843035531\n",
      "Objective value at epoch t=2 is 0.5220135775668113\n",
      "Objective value at epoch t=3 is 0.5220942195477888\n",
      "Objective value at epoch t=4 is 0.5162417595956894\n",
      "Objective value at epoch t=5 is 0.5149921310174906\n",
      "Objective value at epoch t=6 is 0.5090570312952705\n",
      "Objective value at epoch t=7 is 0.5071953842484915\n",
      "Objective value at epoch t=8 is 0.5041933909167673\n",
      "Objective value at epoch t=9 is 0.5010791866905956\n",
      "Objective value at epoch t=10 is 0.5008430195575898\n",
      "Objective value at epoch t=11 is 0.5006858607362822\n",
      "Objective value at epoch t=12 is 0.49696486312190274\n",
      "Objective value at epoch t=13 is 0.49601398504321104\n",
      "Objective value at epoch t=14 is 0.49334805147240407\n",
      "Objective value at epoch t=15 is 0.49215528657097424\n",
      "Objective value at epoch t=16 is 0.49000699714159585\n",
      "Objective value at epoch t=17 is 0.489005704091689\n",
      "Objective value at epoch t=18 is 0.49057656201805094\n",
      "Objective value at epoch t=19 is 0.48937521988219074\n",
      "Objective value at epoch t=20 is 0.488838381696572\n",
      "Objective value at epoch t=21 is 0.4871401040283483\n",
      "Objective value at epoch t=22 is 0.48627312183481\n",
      "Objective value at epoch t=23 is 0.4860469682559426\n",
      "Objective value at epoch t=24 is 0.48561385774608673\n",
      "Objective value at epoch t=25 is 0.4852391437250011\n",
      "Objective value at epoch t=26 is 0.484680386417251\n",
      "Objective value at epoch t=27 is 0.48445530302842393\n",
      "Objective value at epoch t=28 is 0.4836456606348022\n",
      "Objective value at epoch t=29 is 0.48360162407396884\n",
      "Objective value at epoch t=30 is 0.4833476153350237\n",
      "Objective value at epoch t=31 is 0.4829004872314743\n",
      "Objective value at epoch t=32 is 0.48253623599016054\n",
      "Objective value at epoch t=33 is 0.48250595065240554\n",
      "Objective value at epoch t=34 is 0.48217556954880186\n",
      "Objective value at epoch t=35 is 0.48201077322861907\n",
      "Objective value at epoch t=36 is 0.4818687472850022\n",
      "Objective value at epoch t=37 is 0.4816573285211227\n",
      "Objective value at epoch t=38 is 0.481528974803845\n",
      "Objective value at epoch t=39 is 0.4813272022077948\n",
      "Objective value at epoch t=40 is 0.4812681039874347\n",
      "Objective value at epoch t=41 is 0.48115540900213266\n",
      "Objective value at epoch t=42 is 0.4810725482172858\n",
      "Objective value at epoch t=43 is 0.4809698486612121\n",
      "Objective value at epoch t=44 is 0.4808922519079952\n",
      "Objective value at epoch t=45 is 0.48082810095518724\n",
      "Objective value at epoch t=46 is 0.48075942872095184\n",
      "Objective value at epoch t=47 is 0.48069301604332554\n",
      "Objective value at epoch t=48 is 0.4806395694838713\n",
      "Objective value at epoch t=49 is 0.480592953660278\n",
      "Objective value at epoch t=50 is 0.4805503558883317\n",
      "Objective value at epoch t=51 is 0.480506837476472\n",
      "Objective value at epoch t=52 is 0.48047442343474983\n",
      "Objective value at epoch t=53 is 0.4804426993900074\n",
      "Objective value at epoch t=54 is 0.48041177953054576\n",
      "Objective value at epoch t=55 is 0.4803861559571283\n",
      "Objective value at epoch t=56 is 0.48036218517973256\n",
      "Objective value at epoch t=57 is 0.4803416008630217\n",
      "Objective value at epoch t=58 is 0.48032242615069143\n",
      "Objective value at epoch t=59 is 0.4803053646851848\n",
      "Objective value at epoch t=60 is 0.48029020441114395\n",
      "Objective value at epoch t=61 is 0.4802761570888654\n",
      "Objective value at epoch t=62 is 0.4802634344867095\n",
      "Objective value at epoch t=63 is 0.4802520833168706\n",
      "Objective value at epoch t=64 is 0.48024203697375756\n",
      "Objective value at epoch t=65 is 0.48023286398255544\n",
      "Objective value at epoch t=66 is 0.48022461614271233\n",
      "Objective value at epoch t=67 is 0.48021727562516603\n",
      "Objective value at epoch t=68 is 0.48021068181250054\n",
      "Objective value at epoch t=69 is 0.48020465322278055\n",
      "Objective value at epoch t=70 is 0.480199251357128\n",
      "Objective value at epoch t=71 is 0.4801944011624334\n",
      "Objective value at epoch t=72 is 0.4801899789546173\n",
      "Objective value at epoch t=73 is 0.4801860691739718\n",
      "Objective value at epoch t=74 is 0.4801825024027765\n",
      "Objective value at epoch t=75 is 0.4801793124117621\n",
      "Objective value at epoch t=76 is 0.48017643795929155\n",
      "Objective value at epoch t=77 is 0.4801738502995696\n",
      "Objective value at epoch t=78 is 0.48017151294634497\n",
      "Objective value at epoch t=79 is 0.480169404243824\n",
      "Objective value at epoch t=80 is 0.4801675266977165\n",
      "Objective value at epoch t=81 is 0.4801658268510872\n",
      "Objective value at epoch t=82 is 0.4801642973548974\n",
      "Objective value at epoch t=83 is 0.4801629195821304\n",
      "Objective value at epoch t=84 is 0.4801616808744907\n",
      "Objective value at epoch t=85 is 0.4801605643399123\n",
      "Objective value at epoch t=86 is 0.4801595592249493\n",
      "Objective value at epoch t=87 is 0.4801586563884304\n",
      "Objective value at epoch t=88 is 0.48015784295942937\n",
      "Objective value at epoch t=89 is 0.48015711127087635\n",
      "Objective value at epoch t=90 is 0.48015645250800504\n",
      "Objective value at epoch t=91 is 0.48015585959106455\n",
      "Objective value at epoch t=92 is 0.4801553252686924\n",
      "Objective value at epoch t=93 is 0.48015484554896426\n",
      "Objective value at epoch t=94 is 0.48015441264498315\n",
      "Objective value at epoch t=95 is 0.480154024163807\n",
      "Objective value at epoch t=96 is 0.48015367402001824\n",
      "Objective value at epoch t=97 is 0.48015335875391785\n",
      "Objective value at epoch t=98 is 0.48015307513020355\n",
      "Objective value at epoch t=99 is 0.48015281984023384\n"
     ]
    }
   ],
   "source": [
    "# MB-SGD with batch size b=64\n",
    "lam = 1E-6 # do not change\n",
    "b = 64 # do not change\n",
    "stepsize = 0.1 # you must tune this parameter\n",
    "\n",
    "w, objvals_mbsgd64 = mb_sgd(x_train, y_train, lam, b, stepsize)"
   ]
  },
  {
   "cell_type": "markdown",
   "metadata": {},
   "source": [
    "# 7. Plot and compare GD, SGD, and MB-SGD"
   ]
  },
  {
   "cell_type": "markdown",
   "metadata": {},
   "source": [
    "You are required to compare the following algorithms:\n",
    "\n",
    "- Gradient descent (GD)\n",
    "\n",
    "- SGD\n",
    "\n",
    "- MB-SGD with b=8\n",
    "\n",
    "- MB-SGD with b=64\n",
    "\n",
    "Follow the code in Section 4 to plot ```objective function value``` against ```epochs```. There should be four curves in the plot; each curve corresponds to one algorithm."
   ]
  },
  {
   "cell_type": "markdown",
   "metadata": {},
   "source": [
    "Hint: Logistic regression with $\\ell_2$-norm regularization is a strongly convex optimization problem. All the algorithms will converge to the same solution. **In the end, the ``objective function value`` of the 4 algorithms will be the same. If not the same, your implementation must be wrong. Do NOT submit wrong code and wrong result!**"
   ]
  },
  {
   "cell_type": "code",
   "execution_count": 223,
   "metadata": {},
   "outputs": [
    {
     "data": {
      "image/png": "[encoded data removed]",
      "text/plain": [
       "<Figure size 600x400 with 1 Axes>"
      ]
     },
     "metadata": {},
     "output_type": "display_data"
    }
   ],
   "source": [
    "import matplotlib.pyplot as plt\n",
    "%matplotlib inline\n",
    "\n",
    "fig = plt.figure(figsize=(6, 4))\n",
    "\n",
    "epochs_gd = range(len(objvals_gd))\n",
    "epochs_sgd = range(len(objvals_sgd))\n",
    "epochs_mbsgd8 = range(len(objvals_mbsgd8))\n",
    "epochs_mbsgd64 = range(len(objvals_mbsgd64))\n",
    "\n",
    "line0, = plt.plot(epochs_gd, objvals_gd, '--b', linewidth=4)\n",
    "line1, = plt.plot(epochs_sgd, objvals_sgd, '-r', linewidth=2)\n",
    "line2, = plt.plot(epochs_mbsgd8, objvals_mbsgd8, '-k', linewidth=2)\n",
    "line3, = plt.plot(epochs_mbsgd64, objvals_mbsgd64, '-g', linewidth=2)\n",
    "\n",
    "plt.xlabel('Epochs', fontsize=20)\n",
    "plt.ylabel('Objective Value', fontsize=20)\n",
    "plt.legend([line0, line1, line2, line3], ['GD', 'SGD', 'MB-SGD where b=8', 'MB-SGD where b=64'], fontsize=20)\n",
    "plt.tight_layout()\n",
    "plt.show()\n",
    "fig.savefig('compare_gd_sgd_mbsgds.pdf', format='pdf', dpi=1200)"
   ]
  },
  {
   "cell_type": "markdown",
   "metadata": {},
   "source": []
  }
 ],
 "metadata": {
  "kernelspec": {
   "display_name": "Python 3 (ipykernel)",
   "language": "python",
   "name": "python3"
  },
  "language_info": {
   "codemirror_mode": {
    "name": "ipython",
    "version": 3
   },
   "file_extension": ".py",
   "mimetype": "text/x-python",
   "name": "python",
   "nbconvert_exporter": "python",
   "pygments_lexer": "ipython3",
   "version": "3.9.13"
  }
 },
 "nbformat": 4,
 "nbformat_minor": 2
}
